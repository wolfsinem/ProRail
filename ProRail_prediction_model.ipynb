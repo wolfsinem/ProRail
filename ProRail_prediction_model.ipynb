{
 "cells": [
  {
   "cell_type": "markdown",
   "metadata": {},
   "source": [
    "# ProRail Thomas, Sinem en Carlo"
   ]
  },
  {
   "cell_type": "markdown",
   "metadata": {},
   "source": [
    "## Importeren modules"
   ]
  },
  {
   "cell_type": "code",
   "execution_count": 1,
   "metadata": {},
   "outputs": [],
   "source": [
    "# Data processing\n",
    "import pandas as pd\n",
    "import numpy as np\n",
    "import math\n",
    "\n",
    "# Data visualisation\n",
    "import matplotlib.pyplot as plt\n",
    "\n",
    "# Model training / predicting\n",
    "from sklearn.model_selection import train_test_split\n",
    "from sklearn.metrics import accuracy_score\n",
    "from sklearn.tree import DecisionTreeClassifier\n",
    "from sklearn import tree\n",
    "import sklearn.metrics as metrics\n",
    "from sklearn.metrics import mean_squared_error\n",
    "\n",
    "%matplotlib inline"
   ]
  },
  {
   "cell_type": "markdown",
   "metadata": {},
   "source": [
    "## Inladen van de dataset"
   ]
  },
  {
   "cell_type": "code",
   "execution_count": 2,
   "metadata": {},
   "outputs": [
    {
     "name": "stderr",
     "output_type": "stream",
     "text": [
      "/Users/wolfsinem/Library/Python/3.7/lib/python/site-packages/IPython/core/interactiveshell.py:3063: DtypeWarning: Columns (0,11,19,21,24,25,27,32,33,36,37,38,39,40,46,47,48,49,51,53,55,56,60,73,75,78,80,82,83,86,87,91,95,99,102,103,104,107,108,109,110,111,112,113,116,118,119,120,121,122,123,124,129) have mixed types. Specify dtype option on import or set low_memory=False.\n",
      "  interactivity=interactivity, compiler=compiler, result=result)\n"
     ]
    }
   ],
   "source": [
    "dataset = pd.read_csv('sap_storing_data_hu_project.csv',sep=',')"
   ]
  },
  {
   "cell_type": "markdown",
   "metadata": {},
   "source": [
    "## Data analyse"
   ]
  },
  {
   "cell_type": "code",
   "execution_count": 3,
   "metadata": {},
   "outputs": [
    {
     "data": {
      "text/html": [
       "<div>\n",
       "<style scoped>\n",
       "    .dataframe tbody tr th:only-of-type {\n",
       "        vertical-align: middle;\n",
       "    }\n",
       "\n",
       "    .dataframe tbody tr th {\n",
       "        vertical-align: top;\n",
       "    }\n",
       "\n",
       "    .dataframe thead th {\n",
       "        text-align: right;\n",
       "    }\n",
       "</style>\n",
       "<table border=\"1\" class=\"dataframe\">\n",
       "  <thead>\n",
       "    <tr style=\"text-align: right;\">\n",
       "      <th></th>\n",
       "      <th>Unnamed: 0</th>\n",
       "      <th>#stm_sap_meldnr</th>\n",
       "      <th>stm_mon_nr</th>\n",
       "      <th>stm_vl_post</th>\n",
       "      <th>stm_sap_meld_ddt</th>\n",
       "      <th>stm_sap_mon_meld_ddt</th>\n",
       "      <th>stm_sap_meldtekst_lang</th>\n",
       "      <th>stm_mon_begin_ddt</th>\n",
       "      <th>stm_sap_meldtekst</th>\n",
       "      <th>stm_mon_toelichting_trdl</th>\n",
       "      <th>...</th>\n",
       "      <th>stm_rapportage_maand</th>\n",
       "      <th>stm_rapportage_jaar</th>\n",
       "      <th>stm_x_bron_publ_dt</th>\n",
       "      <th>stm_x_bron_bestandsnaam</th>\n",
       "      <th>stm_x_bron_arch_dt</th>\n",
       "      <th>stm_x_actueel_ind</th>\n",
       "      <th>stm_x_run_id</th>\n",
       "      <th>stm_x_bk</th>\n",
       "      <th>stm_x_start_sessie_dt</th>\n",
       "      <th>stm_x_vervallen_ind</th>\n",
       "    </tr>\n",
       "  </thead>\n",
       "  <tbody>\n",
       "    <tr>\n",
       "      <th>0</th>\n",
       "      <td>0</td>\n",
       "      <td>0</td>\n",
       "      <td>NaN</td>\n",
       "      <td>NaN</td>\n",
       "      <td>NaN</td>\n",
       "      <td>NaN</td>\n",
       "      <td>NaN</td>\n",
       "      <td>NaN</td>\n",
       "      <td>NaN</td>\n",
       "      <td>NaN</td>\n",
       "      <td>...</td>\n",
       "      <td>5</td>\n",
       "      <td>2014</td>\n",
       "      <td>07/05/2014 05:30:12</td>\n",
       "      <td>\\\\PUHAPS0149\\Informatica_Prod\\Inbox\\Informatic...</td>\n",
       "      <td>31/12/9999 00:00:00</td>\n",
       "      <td>1</td>\n",
       "      <td>34415</td>\n",
       "      <td>3617016</td>\n",
       "      <td>07/05/2014 05:44:24</td>\n",
       "      <td>0</td>\n",
       "    </tr>\n",
       "    <tr>\n",
       "      <th>1</th>\n",
       "      <td>1</td>\n",
       "      <td>50053211</td>\n",
       "      <td>0.0</td>\n",
       "      <td>NaN</td>\n",
       "      <td>02/01/2006 09:00:00</td>\n",
       "      <td>02/01/2006 09:00:00</td>\n",
       "      <td>Logboeknr  Geeltje  :   49 Tijd: 0900   VL-Po...</td>\n",
       "      <td>NaN</td>\n",
       "      <td>Logboeknr  Geeltje  :   49 Tijd: 0900</td>\n",
       "      <td>NaN</td>\n",
       "      <td>...</td>\n",
       "      <td>1</td>\n",
       "      <td>2006</td>\n",
       "      <td>02/01/2006 09:00:00</td>\n",
       "      <td>\\\\PUHAPS0149\\Informatica_Prod\\Inbox\\Informatic...</td>\n",
       "      <td>31/12/9999 00:00:00</td>\n",
       "      <td>1</td>\n",
       "      <td>1518</td>\n",
       "      <td>12704590</td>\n",
       "      <td>13/06/2013 13:37:52</td>\n",
       "      <td>0</td>\n",
       "    </tr>\n",
       "    <tr>\n",
       "      <th>2</th>\n",
       "      <td>2</td>\n",
       "      <td>50053213</td>\n",
       "      <td>48.0</td>\n",
       "      <td>GN</td>\n",
       "      <td>02/01/2006 12:35:00</td>\n",
       "      <td>02/01/2006 12:35:00</td>\n",
       "      <td>Logboeknr  RBV  :   48 Tijd: 1235   VL-Post: ...</td>\n",
       "      <td>02/01/2006 12:35:00</td>\n",
       "      <td>Logboeknr  RBV  :   48 Tijd: 1235   VL-P</td>\n",
       "      <td>NaN</td>\n",
       "      <td>...</td>\n",
       "      <td>1</td>\n",
       "      <td>2006</td>\n",
       "      <td>02/01/2006 12:35:00</td>\n",
       "      <td>\\\\PUHAPS0149\\Informatica_Prod\\Inbox\\Informatic...</td>\n",
       "      <td>31/12/9999 00:00:00</td>\n",
       "      <td>1</td>\n",
       "      <td>1518</td>\n",
       "      <td>12704591</td>\n",
       "      <td>13/06/2013 13:37:52</td>\n",
       "      <td>0</td>\n",
       "    </tr>\n",
       "    <tr>\n",
       "      <th>3</th>\n",
       "      <td>3</td>\n",
       "      <td>50053214</td>\n",
       "      <td>72.0</td>\n",
       "      <td>ZL</td>\n",
       "      <td>02/01/2006 16:40:00</td>\n",
       "      <td>02/01/2006 16:40:00</td>\n",
       "      <td>Logboeknr  RBV  :   72 Tijd: 1640   VL-Post: ...</td>\n",
       "      <td>02/01/2006 16:40:00</td>\n",
       "      <td>Logboeknr  RBV  :   72 Tijd: 1640   VL-P</td>\n",
       "      <td>NaN</td>\n",
       "      <td>...</td>\n",
       "      <td>1</td>\n",
       "      <td>2006</td>\n",
       "      <td>02/01/2006 16:40:00</td>\n",
       "      <td>\\\\PUHAPS0149\\Informatica_Prod\\Inbox\\Informatic...</td>\n",
       "      <td>31/12/9999 00:00:00</td>\n",
       "      <td>1</td>\n",
       "      <td>1518</td>\n",
       "      <td>12704592</td>\n",
       "      <td>13/06/2013 13:37:52</td>\n",
       "      <td>0</td>\n",
       "    </tr>\n",
       "    <tr>\n",
       "      <th>4</th>\n",
       "      <td>4</td>\n",
       "      <td>50053215</td>\n",
       "      <td>96.0</td>\n",
       "      <td>ZL</td>\n",
       "      <td>02/01/2006 22:30:00</td>\n",
       "      <td>02/01/2006 22:30:00</td>\n",
       "      <td>Logboeknr  RBV  :   96 Tijd: 2230   VL-Post: ...</td>\n",
       "      <td>02/01/2006 22:30:00</td>\n",
       "      <td>Logboeknr  RBV  :   96 Tijd: 2230   VL-P</td>\n",
       "      <td>NaN</td>\n",
       "      <td>...</td>\n",
       "      <td>1</td>\n",
       "      <td>2006</td>\n",
       "      <td>02/01/2006 22:30:00</td>\n",
       "      <td>\\\\PUHAPS0149\\Informatica_Prod\\Inbox\\Informatic...</td>\n",
       "      <td>31/12/9999 00:00:00</td>\n",
       "      <td>1</td>\n",
       "      <td>1518</td>\n",
       "      <td>12704593</td>\n",
       "      <td>13/06/2013 13:37:52</td>\n",
       "      <td>0</td>\n",
       "    </tr>\n",
       "  </tbody>\n",
       "</table>\n",
       "<p>5 rows × 140 columns</p>\n",
       "</div>"
      ],
      "text/plain": [
       "  Unnamed: 0  #stm_sap_meldnr  stm_mon_nr stm_vl_post     stm_sap_meld_ddt  \\\n",
       "0          0                0         NaN         NaN                  NaN   \n",
       "1          1         50053211         0.0         NaN  02/01/2006 09:00:00   \n",
       "2          2         50053213        48.0          GN  02/01/2006 12:35:00   \n",
       "3          3         50053214        72.0          ZL  02/01/2006 16:40:00   \n",
       "4          4         50053215        96.0          ZL  02/01/2006 22:30:00   \n",
       "\n",
       "  stm_sap_mon_meld_ddt                             stm_sap_meldtekst_lang  \\\n",
       "0                  NaN                                                NaN   \n",
       "1  02/01/2006 09:00:00   Logboeknr  Geeltje  :   49 Tijd: 0900   VL-Po...   \n",
       "2  02/01/2006 12:35:00   Logboeknr  RBV  :   48 Tijd: 1235   VL-Post: ...   \n",
       "3  02/01/2006 16:40:00   Logboeknr  RBV  :   72 Tijd: 1640   VL-Post: ...   \n",
       "4  02/01/2006 22:30:00   Logboeknr  RBV  :   96 Tijd: 2230   VL-Post: ...   \n",
       "\n",
       "     stm_mon_begin_ddt                         stm_sap_meldtekst  \\\n",
       "0                  NaN                                       NaN   \n",
       "1                  NaN     Logboeknr  Geeltje  :   49 Tijd: 0900   \n",
       "2  02/01/2006 12:35:00  Logboeknr  RBV  :   48 Tijd: 1235   VL-P   \n",
       "3  02/01/2006 16:40:00  Logboeknr  RBV  :   72 Tijd: 1640   VL-P   \n",
       "4  02/01/2006 22:30:00  Logboeknr  RBV  :   96 Tijd: 2230   VL-P   \n",
       "\n",
       "  stm_mon_toelichting_trdl  ... stm_rapportage_maand stm_rapportage_jaar  \\\n",
       "0                      NaN  ...                    5                2014   \n",
       "1                      NaN  ...                    1                2006   \n",
       "2                      NaN  ...                    1                2006   \n",
       "3                      NaN  ...                    1                2006   \n",
       "4                      NaN  ...                    1                2006   \n",
       "\n",
       "    stm_x_bron_publ_dt                            stm_x_bron_bestandsnaam  \\\n",
       "0  07/05/2014 05:30:12  \\\\PUHAPS0149\\Informatica_Prod\\Inbox\\Informatic...   \n",
       "1  02/01/2006 09:00:00  \\\\PUHAPS0149\\Informatica_Prod\\Inbox\\Informatic...   \n",
       "2  02/01/2006 12:35:00  \\\\PUHAPS0149\\Informatica_Prod\\Inbox\\Informatic...   \n",
       "3  02/01/2006 16:40:00  \\\\PUHAPS0149\\Informatica_Prod\\Inbox\\Informatic...   \n",
       "4  02/01/2006 22:30:00  \\\\PUHAPS0149\\Informatica_Prod\\Inbox\\Informatic...   \n",
       "\n",
       "    stm_x_bron_arch_dt stm_x_actueel_ind  stm_x_run_id  stm_x_bk  \\\n",
       "0  31/12/9999 00:00:00                 1         34415   3617016   \n",
       "1  31/12/9999 00:00:00                 1          1518  12704590   \n",
       "2  31/12/9999 00:00:00                 1          1518  12704591   \n",
       "3  31/12/9999 00:00:00                 1          1518  12704592   \n",
       "4  31/12/9999 00:00:00                 1          1518  12704593   \n",
       "\n",
       "   stm_x_start_sessie_dt stm_x_vervallen_ind  \n",
       "0    07/05/2014 05:44:24                   0  \n",
       "1    13/06/2013 13:37:52                   0  \n",
       "2    13/06/2013 13:37:52                   0  \n",
       "3    13/06/2013 13:37:52                   0  \n",
       "4    13/06/2013 13:37:52                   0  \n",
       "\n",
       "[5 rows x 140 columns]"
      ]
     },
     "execution_count": 3,
     "metadata": {},
     "output_type": "execute_result"
    }
   ],
   "source": [
    "dataset.head()"
   ]
  },
  {
   "cell_type": "markdown",
   "metadata": {},
   "source": [
    "#### Vorm van de dataset"
   ]
  },
  {
   "cell_type": "code",
   "execution_count": 4,
   "metadata": {},
   "outputs": [
    {
     "data": {
      "text/plain": [
       "(898526, 140)"
      ]
     },
     "execution_count": 4,
     "metadata": {},
     "output_type": "execute_result"
    }
   ],
   "source": [
    "dataset.shape"
   ]
  },
  {
   "cell_type": "markdown",
   "metadata": {},
   "source": [
    "#### Kolommen in de dataset"
   ]
  },
  {
   "cell_type": "code",
   "execution_count": 5,
   "metadata": {},
   "outputs": [
    {
     "data": {
      "text/plain": [
       "Index(['Unnamed: 0', '#stm_sap_meldnr', 'stm_mon_nr', 'stm_vl_post',\n",
       "       'stm_sap_meld_ddt', 'stm_sap_mon_meld_ddt', 'stm_sap_meldtekst_lang',\n",
       "       'stm_mon_begin_ddt', 'stm_sap_meldtekst', 'stm_mon_toelichting_trdl',\n",
       "       ...\n",
       "       'stm_rapportage_maand', 'stm_rapportage_jaar', 'stm_x_bron_publ_dt',\n",
       "       'stm_x_bron_bestandsnaam', 'stm_x_bron_arch_dt', 'stm_x_actueel_ind',\n",
       "       'stm_x_run_id', 'stm_x_bk', 'stm_x_start_sessie_dt',\n",
       "       'stm_x_vervallen_ind'],\n",
       "      dtype='object', length=140)"
      ]
     },
     "execution_count": 5,
     "metadata": {},
     "output_type": "execute_result"
    }
   ],
   "source": [
    "dataset.columns"
   ]
  },
  {
   "cell_type": "markdown",
   "metadata": {},
   "source": [
    "---\n",
    "De dataset heeft <b>890.000</b> rijen en <b>140 </b>kolommen. Deze bevat zoals je ziet ook veel NULL waarden, de volgende cel laat de <b>verdeling</b> zien van het percentage null-waarden per kolom."
   ]
  },
  {
   "cell_type": "code",
   "execution_count": 6,
   "metadata": {},
   "outputs": [
    {
     "data": {
      "text/plain": [
       "count    140.000000\n",
       "mean      30.492376\n",
       "std       33.150049\n",
       "min        0.000000\n",
       "25%        0.004229\n",
       "50%       18.094802\n",
       "75%       63.303566\n",
       "max       99.442198\n",
       "dtype: float64"
      ]
     },
     "execution_count": 6,
     "metadata": {},
     "output_type": "execute_result"
    }
   ],
   "source": [
    "(pd.isnull(dataset).sum() / len(dataset) * 100).describe()"
   ]
  },
  {
   "cell_type": "markdown",
   "metadata": {},
   "source": [
    "    - Kolommen missen gemiddeld 30% van hun waarden.\n",
    "    - 50% van alle kolommen missen minder dan 18% data."
   ]
  },
  {
   "cell_type": "markdown",
   "metadata": {},
   "source": [
    "#### De volgende cel laat zien welke datatypen er voorkomen in de dataset."
   ]
  },
  {
   "cell_type": "code",
   "execution_count": 7,
   "metadata": {},
   "outputs": [
    {
     "data": {
      "text/plain": [
       "Unnamed: 0                object\n",
       "#stm_sap_meldnr            int64\n",
       "stm_mon_nr               float64\n",
       "stm_vl_post               object\n",
       "stm_sap_meld_ddt          object\n",
       "                          ...   \n",
       "stm_x_actueel_ind          int64\n",
       "stm_x_run_id               int64\n",
       "stm_x_bk                   int64\n",
       "stm_x_start_sessie_dt     object\n",
       "stm_x_vervallen_ind        int64\n",
       "Length: 140, dtype: object"
      ]
     },
     "execution_count": 7,
     "metadata": {},
     "output_type": "execute_result"
    }
   ],
   "source": [
    "dataset.dtypes"
   ]
  },
  {
   "cell_type": "markdown",
   "metadata": {},
   "source": [
    "## Data cleaning"
   ]
  },
  {
   "cell_type": "markdown",
   "metadata": {},
   "source": [
    "De oorspronkelijke dataset bevat zoals eerder laten zien uit <b>140</b> kolommen. De meeste van deze kolommen missen veel waarden waardoor we deze niet meenemen. Als team hebben we daarom samen gekeken naar alle beschikbare kolommen en de <b>relevante</b> eruit geselecteerd. Hiervan hebben we een nieuwe data dictionary aangemaakt, met in de eerste kolom het <b>geselecteerde kolom</b> en de tweede kolom is een <b>beschrijving</b> hiervan."
   ]
  },
  {
   "cell_type": "code",
   "execution_count": 8,
   "metadata": {},
   "outputs": [],
   "source": [
    "selected_columns = pd.read_csv('data-dictionary.csv', delimiter=';', header=None,index_col =0)"
   ]
  },
  {
   "cell_type": "markdown",
   "metadata": {},
   "source": [
    "#### Data Dictionary"
   ]
  },
  {
   "cell_type": "code",
   "execution_count": 9,
   "metadata": {},
   "outputs": [
    {
     "data": {
      "text/html": [
       "<div>\n",
       "<style scoped>\n",
       "    .dataframe tbody tr th:only-of-type {\n",
       "        vertical-align: middle;\n",
       "    }\n",
       "\n",
       "    .dataframe tbody tr th {\n",
       "        vertical-align: top;\n",
       "    }\n",
       "\n",
       "    .dataframe thead th {\n",
       "        text-align: right;\n",
       "    }\n",
       "</style>\n",
       "<table border=\"1\" class=\"dataframe\">\n",
       "  <thead>\n",
       "    <tr style=\"text-align: right;\">\n",
       "      <th></th>\n",
       "      <th>1</th>\n",
       "    </tr>\n",
       "    <tr>\n",
       "      <th>0</th>\n",
       "      <th></th>\n",
       "    </tr>\n",
       "  </thead>\n",
       "  <tbody>\n",
       "    <tr>\n",
       "      <th>#stm_sap_meldnr</th>\n",
       "      <td>RVO nummer</td>\n",
       "    </tr>\n",
       "    <tr>\n",
       "      <th>stm_geo_mld</th>\n",
       "      <td>Geo code van melding</td>\n",
       "    </tr>\n",
       "    <tr>\n",
       "      <th>stm_equipm_soort_mld</th>\n",
       "      <td>Equipment soort</td>\n",
       "    </tr>\n",
       "    <tr>\n",
       "      <th>stm_prioriteit</th>\n",
       "      <td>Prioriteitsindicatie</td>\n",
       "    </tr>\n",
       "    <tr>\n",
       "      <th>stm_contractgeb_gst</th>\n",
       "      <td>Het contract gebied</td>\n",
       "    </tr>\n",
       "    <tr>\n",
       "      <th>stm_techn_gst</th>\n",
       "      <td>Techniekveld melding</td>\n",
       "    </tr>\n",
       "    <tr>\n",
       "      <th>stm_oorz_groep</th>\n",
       "      <td>Oorzaak groep</td>\n",
       "    </tr>\n",
       "    <tr>\n",
       "      <th>stm_oorz_code</th>\n",
       "      <td>Oorzaak code</td>\n",
       "    </tr>\n",
       "    <tr>\n",
       "      <th>stm_tao_indicator</th>\n",
       "      <td>Gerelateerd aan mutatie in database (er kunne...</td>\n",
       "    </tr>\n",
       "    <tr>\n",
       "      <th>stm_tao_indicator_vorige</th>\n",
       "      <td>Gerelateerd aan mutatie in database (er kunne...</td>\n",
       "    </tr>\n",
       "    <tr>\n",
       "      <th>stm_tao_soort_mutatie</th>\n",
       "      <td>Gerelateerd aan mutatie in database (er kunne...</td>\n",
       "    </tr>\n",
       "    <tr>\n",
       "      <th>stm_tao_telling_mutatie</th>\n",
       "      <td>Gerelateerd aan mutatie in database (er kunne...</td>\n",
       "    </tr>\n",
       "    <tr>\n",
       "      <th>stm_tao_beinvloedbaar_indicator</th>\n",
       "      <td>Gerelateerd aan mutatie in database (er kunne...</td>\n",
       "    </tr>\n",
       "    <tr>\n",
       "      <th>stm_sap_meld_ddt</th>\n",
       "      <td>Datum Tijdstip van melding</td>\n",
       "    </tr>\n",
       "    <tr>\n",
       "      <th>stm_sap_storeind_ddt</th>\n",
       "      <td>Datum Tijdstip van einde storing</td>\n",
       "    </tr>\n",
       "    <tr>\n",
       "      <th>stm_aanngeb_ddt</th>\n",
       "      <td>Datum Tijdstip van waneer aannemer gebeld is....</td>\n",
       "    </tr>\n",
       "    <tr>\n",
       "      <th>stm_aanntpl_ddt</th>\n",
       "      <td>Datum Tijdstip van waneer aannemer terplaatse is</td>\n",
       "    </tr>\n",
       "    <tr>\n",
       "      <th>stm_progfh_in_ddt</th>\n",
       "      <td>datum en tijd prognose</td>\n",
       "    </tr>\n",
       "    <tr>\n",
       "      <th>stm_progfh_in_invoer_ddt</th>\n",
       "      <td>invoer datum en tijd prognose</td>\n",
       "    </tr>\n",
       "    <tr>\n",
       "      <th>stm_progfh_in_duur</th>\n",
       "      <td>?Duur FHT</td>\n",
       "    </tr>\n",
       "    <tr>\n",
       "      <th>stm_progfh_gw_ddt</th>\n",
       "      <td>?</td>\n",
       "    </tr>\n",
       "    <tr>\n",
       "      <th>stm_fh_ddt</th>\n",
       "      <td>Datum en Tijd van functieherstel</td>\n",
       "    </tr>\n",
       "    <tr>\n",
       "      <th>stm_fh_duur</th>\n",
       "      <td>Duur van functieherstel</td>\n",
       "    </tr>\n",
       "    <tr>\n",
       "      <th>stm_fh_status</th>\n",
       "      <td>status van funtieherstel</td>\n",
       "    </tr>\n",
       "  </tbody>\n",
       "</table>\n",
       "</div>"
      ],
      "text/plain": [
       "                                                                                 1\n",
       "0                                                                                 \n",
       "#stm_sap_meldnr                                                         RVO nummer\n",
       "stm_geo_mld                                                   Geo code van melding\n",
       "stm_equipm_soort_mld                                               Equipment soort\n",
       "stm_prioriteit                                                Prioriteitsindicatie\n",
       "stm_contractgeb_gst                                            Het contract gebied\n",
       "stm_techn_gst                                                 Techniekveld melding\n",
       "stm_oorz_groep                                                       Oorzaak groep\n",
       "stm_oorz_code                                                         Oorzaak code\n",
       "stm_tao_indicator                 Gerelateerd aan mutatie in database (er kunne...\n",
       "stm_tao_indicator_vorige          Gerelateerd aan mutatie in database (er kunne...\n",
       "stm_tao_soort_mutatie             Gerelateerd aan mutatie in database (er kunne...\n",
       "stm_tao_telling_mutatie           Gerelateerd aan mutatie in database (er kunne...\n",
       "stm_tao_beinvloedbaar_indicator   Gerelateerd aan mutatie in database (er kunne...\n",
       "stm_sap_meld_ddt                                        Datum Tijdstip van melding\n",
       "stm_sap_storeind_ddt                              Datum Tijdstip van einde storing\n",
       "stm_aanngeb_ddt                   Datum Tijdstip van waneer aannemer gebeld is....\n",
       "stm_aanntpl_ddt                   Datum Tijdstip van waneer aannemer terplaatse is\n",
       "stm_progfh_in_ddt                                           datum en tijd prognose\n",
       "stm_progfh_in_invoer_ddt                             invoer datum en tijd prognose\n",
       "stm_progfh_in_duur                                                       ?Duur FHT\n",
       "stm_progfh_gw_ddt                                                                ?\n",
       "stm_fh_ddt                                        Datum en Tijd van functieherstel\n",
       "stm_fh_duur                                                Duur van functieherstel\n",
       "stm_fh_status                                             status van funtieherstel"
      ]
     },
     "execution_count": 9,
     "metadata": {},
     "output_type": "execute_result"
    }
   ],
   "source": [
    "selected_columns"
   ]
  },
  {
   "cell_type": "markdown",
   "metadata": {},
   "source": [
    "#### We nemen alleen de kolommen mee in de dataset die in de data dictionary zitten, zoals hierboven te zien is."
   ]
  },
  {
   "cell_type": "code",
   "execution_count": 10,
   "metadata": {},
   "outputs": [],
   "source": [
    "dataset = dataset[selected_columns.index]"
   ]
  },
  {
   "cell_type": "code",
   "execution_count": 11,
   "metadata": {},
   "outputs": [
    {
     "data": {
      "text/html": [
       "<div>\n",
       "<style scoped>\n",
       "    .dataframe tbody tr th:only-of-type {\n",
       "        vertical-align: middle;\n",
       "    }\n",
       "\n",
       "    .dataframe tbody tr th {\n",
       "        vertical-align: top;\n",
       "    }\n",
       "\n",
       "    .dataframe thead th {\n",
       "        text-align: right;\n",
       "    }\n",
       "</style>\n",
       "<table border=\"1\" class=\"dataframe\">\n",
       "  <thead>\n",
       "    <tr style=\"text-align: right;\">\n",
       "      <th></th>\n",
       "      <th>#stm_sap_meldnr</th>\n",
       "      <th>stm_geo_mld</th>\n",
       "      <th>stm_equipm_soort_mld</th>\n",
       "      <th>stm_prioriteit</th>\n",
       "      <th>stm_contractgeb_gst</th>\n",
       "      <th>stm_techn_gst</th>\n",
       "      <th>stm_oorz_groep</th>\n",
       "      <th>stm_oorz_code</th>\n",
       "      <th>stm_tao_indicator</th>\n",
       "      <th>stm_tao_indicator_vorige</th>\n",
       "      <th>...</th>\n",
       "      <th>stm_sap_storeind_ddt</th>\n",
       "      <th>stm_aanngeb_ddt</th>\n",
       "      <th>stm_aanntpl_ddt</th>\n",
       "      <th>stm_progfh_in_ddt</th>\n",
       "      <th>stm_progfh_in_invoer_ddt</th>\n",
       "      <th>stm_progfh_in_duur</th>\n",
       "      <th>stm_progfh_gw_ddt</th>\n",
       "      <th>stm_fh_ddt</th>\n",
       "      <th>stm_fh_duur</th>\n",
       "      <th>stm_fh_status</th>\n",
       "    </tr>\n",
       "  </thead>\n",
       "  <tbody>\n",
       "    <tr>\n",
       "      <th>0</th>\n",
       "      <td>0</td>\n",
       "      <td>NaN</td>\n",
       "      <td>NaN</td>\n",
       "      <td>NaN</td>\n",
       "      <td>NaN</td>\n",
       "      <td>NaN</td>\n",
       "      <td>NaN</td>\n",
       "      <td>NaN</td>\n",
       "      <td>N</td>\n",
       "      <td>NaN</td>\n",
       "      <td>...</td>\n",
       "      <td>NaN</td>\n",
       "      <td>NaN</td>\n",
       "      <td>NaN</td>\n",
       "      <td>NaN</td>\n",
       "      <td>NaN</td>\n",
       "      <td>NaN</td>\n",
       "      <td>NaN</td>\n",
       "      <td>NaN</td>\n",
       "      <td>NaN</td>\n",
       "      <td>NaN</td>\n",
       "    </tr>\n",
       "    <tr>\n",
       "      <th>1</th>\n",
       "      <td>50053211</td>\n",
       "      <td>624</td>\n",
       "      <td>NaN</td>\n",
       "      <td>9.0</td>\n",
       "      <td>81.0</td>\n",
       "      <td>S</td>\n",
       "      <td>ONR-RIB</td>\n",
       "      <td>133.0</td>\n",
       "      <td>N</td>\n",
       "      <td>NaN</td>\n",
       "      <td>...</td>\n",
       "      <td>02/01/2006 09:00:00</td>\n",
       "      <td>02/01/2006 09:00:00</td>\n",
       "      <td>NaN</td>\n",
       "      <td>NaN</td>\n",
       "      <td>NaN</td>\n",
       "      <td>1e+08</td>\n",
       "      <td>NaN</td>\n",
       "      <td>02/01/2006 09:00:00</td>\n",
       "      <td>0.0</td>\n",
       "      <td>4.0</td>\n",
       "    </tr>\n",
       "    <tr>\n",
       "      <th>2</th>\n",
       "      <td>50053213</td>\n",
       "      <td>201</td>\n",
       "      <td>NaN</td>\n",
       "      <td>9.0</td>\n",
       "      <td>37.0</td>\n",
       "      <td>B</td>\n",
       "      <td>ONR-DERD</td>\n",
       "      <td>143.0</td>\n",
       "      <td>N</td>\n",
       "      <td>NaN</td>\n",
       "      <td>...</td>\n",
       "      <td>02/01/2006 13:26:00</td>\n",
       "      <td>02/01/2006 12:35:00</td>\n",
       "      <td>NaN</td>\n",
       "      <td>NaN</td>\n",
       "      <td>NaN</td>\n",
       "      <td>1e+08</td>\n",
       "      <td>NaN</td>\n",
       "      <td>02/01/2006 13:26:00</td>\n",
       "      <td>51.0</td>\n",
       "      <td>4.0</td>\n",
       "    </tr>\n",
       "    <tr>\n",
       "      <th>3</th>\n",
       "      <td>50053214</td>\n",
       "      <td>25</td>\n",
       "      <td>NaN</td>\n",
       "      <td>9.0</td>\n",
       "      <td>32.0</td>\n",
       "      <td>B</td>\n",
       "      <td>ONR-DERD</td>\n",
       "      <td>142.0</td>\n",
       "      <td>N</td>\n",
       "      <td>NaN</td>\n",
       "      <td>...</td>\n",
       "      <td>02/01/2006 17:20:00</td>\n",
       "      <td>02/01/2006 16:40:00</td>\n",
       "      <td>NaN</td>\n",
       "      <td>NaN</td>\n",
       "      <td>NaN</td>\n",
       "      <td>1e+08</td>\n",
       "      <td>NaN</td>\n",
       "      <td>02/01/2006 17:20:00</td>\n",
       "      <td>40.0</td>\n",
       "      <td>4.0</td>\n",
       "    </tr>\n",
       "    <tr>\n",
       "      <th>4</th>\n",
       "      <td>50053215</td>\n",
       "      <td>12</td>\n",
       "      <td>NaN</td>\n",
       "      <td>9.0</td>\n",
       "      <td>35.0</td>\n",
       "      <td>B</td>\n",
       "      <td>ONR-DERD</td>\n",
       "      <td>142.0</td>\n",
       "      <td>N</td>\n",
       "      <td>NaN</td>\n",
       "      <td>...</td>\n",
       "      <td>02/01/2006 22:36:00</td>\n",
       "      <td>02/01/2006 22:30:00</td>\n",
       "      <td>NaN</td>\n",
       "      <td>NaN</td>\n",
       "      <td>NaN</td>\n",
       "      <td>1e+08</td>\n",
       "      <td>NaN</td>\n",
       "      <td>02/01/2006 22:36:00</td>\n",
       "      <td>6.0</td>\n",
       "      <td>4.0</td>\n",
       "    </tr>\n",
       "  </tbody>\n",
       "</table>\n",
       "<p>5 rows × 24 columns</p>\n",
       "</div>"
      ],
      "text/plain": [
       "   #stm_sap_meldnr stm_geo_mld stm_equipm_soort_mld  stm_prioriteit  \\\n",
       "0                0         NaN                  NaN             NaN   \n",
       "1         50053211         624                  NaN             9.0   \n",
       "2         50053213         201                  NaN             9.0   \n",
       "3         50053214          25                  NaN             9.0   \n",
       "4         50053215          12                  NaN             9.0   \n",
       "\n",
       "   stm_contractgeb_gst stm_techn_gst stm_oorz_groep  stm_oorz_code  \\\n",
       "0                  NaN           NaN            NaN            NaN   \n",
       "1                 81.0             S        ONR-RIB          133.0   \n",
       "2                 37.0             B       ONR-DERD          143.0   \n",
       "3                 32.0             B       ONR-DERD          142.0   \n",
       "4                 35.0             B       ONR-DERD          142.0   \n",
       "\n",
       "  stm_tao_indicator stm_tao_indicator_vorige  ... stm_sap_storeind_ddt  \\\n",
       "0                 N                      NaN  ...                  NaN   \n",
       "1                 N                      NaN  ...  02/01/2006 09:00:00   \n",
       "2                 N                      NaN  ...  02/01/2006 13:26:00   \n",
       "3                 N                      NaN  ...  02/01/2006 17:20:00   \n",
       "4                 N                      NaN  ...  02/01/2006 22:36:00   \n",
       "\n",
       "       stm_aanngeb_ddt stm_aanntpl_ddt stm_progfh_in_ddt  \\\n",
       "0                  NaN             NaN               NaN   \n",
       "1  02/01/2006 09:00:00             NaN               NaN   \n",
       "2  02/01/2006 12:35:00             NaN               NaN   \n",
       "3  02/01/2006 16:40:00             NaN               NaN   \n",
       "4  02/01/2006 22:30:00             NaN               NaN   \n",
       "\n",
       "  stm_progfh_in_invoer_ddt stm_progfh_in_duur stm_progfh_gw_ddt  \\\n",
       "0                      NaN                NaN               NaN   \n",
       "1                      NaN              1e+08               NaN   \n",
       "2                      NaN              1e+08               NaN   \n",
       "3                      NaN              1e+08               NaN   \n",
       "4                      NaN              1e+08               NaN   \n",
       "\n",
       "            stm_fh_ddt stm_fh_duur stm_fh_status  \n",
       "0                  NaN         NaN           NaN  \n",
       "1  02/01/2006 09:00:00         0.0           4.0  \n",
       "2  02/01/2006 13:26:00        51.0           4.0  \n",
       "3  02/01/2006 17:20:00        40.0           4.0  \n",
       "4  02/01/2006 22:36:00         6.0           4.0  \n",
       "\n",
       "[5 rows x 24 columns]"
      ]
     },
     "execution_count": 11,
     "metadata": {},
     "output_type": "execute_result"
    }
   ],
   "source": [
    "dataset.head()"
   ]
  },
  {
   "cell_type": "markdown",
   "metadata": {},
   "source": [
    "#### Hier zullen we de dubbele waarden die in de dataset voorkomen verwijderen. Daarnaast hebben we met de Product Owners eerder besproken om <i>alleen</i> rijen met storingen mee te nemen die tot 6 uur duren."
   ]
  },
  {
   "cell_type": "code",
   "execution_count": 12,
   "metadata": {},
   "outputs": [],
   "source": [
    "dataset.drop_duplicates(inplace=True)"
   ]
  },
  {
   "cell_type": "code",
   "execution_count": 13,
   "metadata": {},
   "outputs": [],
   "source": [
    "dataset = dataset[(dataset[\"stm_fh_duur\"] > 0) & (dataset[\"stm_fh_duur\"] <= 360)]"
   ]
  },
  {
   "cell_type": "markdown",
   "metadata": {},
   "source": [
    "#### Hieronder zullen we de kolommen omzetten naar datetime zodat we er berekeningen mee kunnen maken."
   ]
  },
  {
   "cell_type": "code",
   "execution_count": 14,
   "metadata": {},
   "outputs": [],
   "source": [
    "colums_to_change = [\"stm_sap_meld_ddt\", \"stm_aanngeb_ddt\", \"stm_aanntpl_ddt\", \"stm_fh_ddt\", \"stm_sap_storeind_ddt\"]\n",
    "\n",
    "dataset[colums_to_change] = dataset[colums_to_change].apply(pd.to_datetime, format=\"%d/%m/%Y %H:%M:%S\")"
   ]
  },
  {
   "cell_type": "markdown",
   "metadata": {},
   "source": [
    "De huidige dataset bevat een kolom met <b>'stm_fh_duur'</b>. Deze kolom is de volledige duur van het functieherstel en de tijd dat de aannemer ter plaatse moet komen. We hebben op basis hiervan een nieuwe <b>'stm_fh_duur_2'</b> kolom aangemaakt die de duur van de reistijd van de aannemer die ter plaatse moet komen er af haalt. Hierdoor bevat <b>stm_fh_duur_2</b> de duur van alleen het functieherstel."
   ]
  },
  {
   "cell_type": "code",
   "execution_count": 15,
   "metadata": {},
   "outputs": [],
   "source": [
    "dataset[\"stm_fh_duur_2\"] = pd.Series(dataset[\"stm_fh_duur\"] - ((dataset[\"stm_aanntpl_ddt\"] - dataset[\"stm_sap_meld_ddt\"]).dt.seconds)/60)\n",
    "dataset = dataset[(dataset[\"stm_fh_duur_2\"] > 0) & (dataset[\"stm_fh_duur_2\"] <= 360)]"
   ]
  },
  {
   "cell_type": "markdown",
   "metadata": {},
   "source": [
    "We gebruiken voor onze modellen alleen de data vanaf <b>2017</b>. We hebben specifiek hiervoor gekozen omdat de data die ouder is dan <b>2017</b> minder accuraat ingevuld kunnen zijn en deze kunnen daarnaast ook verouderd zijn. Hierdoor kunnen onze modellen minder goed presteren."
   ]
  },
  {
   "cell_type": "code",
   "execution_count": 16,
   "metadata": {},
   "outputs": [],
   "source": [
    "dataset = dataset[dataset[\"stm_sap_meld_ddt\"].dt.year >= 2017]"
   ]
  },
  {
   "cell_type": "markdown",
   "metadata": {},
   "source": [
    "## Data exploration"
   ]
  },
  {
   "cell_type": "markdown",
   "metadata": {},
   "source": [
    "#### Aantal storingen per jaar"
   ]
  },
  {
   "cell_type": "code",
   "execution_count": 17,
   "metadata": {},
   "outputs": [],
   "source": [
    "labels_year = dataset[\"stm_sap_meld_ddt\"].groupby([dataset[\"stm_sap_meld_ddt\"].dt.year.rename('year')]).agg({'count'}).index\n",
    "data_year = dataset[\"stm_sap_meld_ddt\"].groupby([dataset[\"stm_sap_meld_ddt\"].dt.year.rename('year')]).agg({'count'})[\"count\"]"
   ]
  },
  {
   "cell_type": "code",
   "execution_count": 18,
   "metadata": {},
   "outputs": [
    {
     "data": {
      "image/png": "[encoded data removed]",
      "text/plain": [
       "<Figure size 432x288 with 1 Axes>"
      ]
     },
     "metadata": {
      "needs_background": "light"
     },
     "output_type": "display_data"
    }
   ],
   "source": [
    "plt.bar(labels_year, height=data_year)\n",
    "plt.title(\"Aantal storingen per jaar\")\n",
    "plt.xlabel(\"Jaar\")\n",
    "plt.ylabel(\"Aantal storingen\")\n",
    "plt.show()"
   ]
  },
  {
   "cell_type": "markdown",
   "metadata": {},
   "source": [
    "Zoals we in de grafiek kunnen zien schoot het aantal storingen in <b>2013</b> omhoog. In de vervolg jaren nam het aantal storingen ieder jaar weer af. Het lage aantal storingen van <b>2019</b> komt doordat wij de data halverwege <b>2019</b> hebben verkregen. Hierdoor is het aantal storingen van <b>2019</b> veel lager."
   ]
  },
  {
   "cell_type": "markdown",
   "metadata": {},
   "source": [
    "#### Gemiddelde reparatieduur per soort storing in de dataset\n",
    "\n",
    "---\n",
    "\n",
    "In de grafiek hieronder laten we de gemiddelde reparatieduur per soort melding in de dataset zien. Zoals je ziet komt 'TREINBEINV' het meeste voor en staat 'SEIN' op de 5e plaats"
   ]
  },
  {
   "cell_type": "code",
   "execution_count": 19,
   "metadata": {},
   "outputs": [
    {
     "data": {
      "image/png": "[encoded data removed]",
      "text/plain": [
       "<Figure size 1440x1080 with 1 Axes>"
      ]
     },
     "metadata": {
      "needs_background": "light"
     },
     "output_type": "display_data"
    }
   ],
   "source": [
    "soort_storing = dataset['stm_equipm_soort_mld'].value_counts(dropna=False)[:30].index\n",
    "gemiddelde_tijd = dataset[dataset['stm_equipm_soort_mld'].isin(soort_storing)].groupby('stm_equipm_soort_mld')['stm_fh_duur'].mean().sort_values()\n",
    "\n",
    "plt.figure(figsize=[20,15])\n",
    "plt.barh(gemiddelde_tijd.index, gemiddelde_tijd.values)\n",
    "plt.grid()\n",
    "plt.title(\"Gemiddelde reparatieduur per soort storing\")\n",
    "plt.xlabel(\"Reparatieduur (min)\")\n",
    "plt.ylabel(\"Soort storing\")\n",
    "plt.show()"
   ]
  },
  {
   "cell_type": "markdown",
   "metadata": {},
   "source": [
    "#### Verschillende invloeden op het aantal storingen per dag van de week, uur op een dag en maand in het jaar\n",
    "\n",
    "---\n",
    "\n",
    "In de de onderstaande plots laten we zien of een dag van de week, uur van de dag en maand van het jaar invloed blijken te hebben op het aantal storingen.\n",
    "\n",
    "- <b>Weekdag 0 t/m 6 op de xas</b>\n",
    "    - Op de donderdag komen de meeste storingen voor\n",
    "    - Gemiddeld duurt een storing op de zondag het langst\n",
    "    - In het weekend komen duidelijk de minste storingen voor\n",
    "\n",
    "- <b>Maand 1 t/m 12 op de xas</b>\n",
    "    - In de eerste maand (januari) zijn de meeste storingen\n",
    "    - De totale duur van een storing is in de maand januari het langst\n",
    "    - Wel duurt een gemiddelde storing in de maand december het langst\n",
    "  \n",
    "- <b>Uur 0 t/m 23 op de xas</b> \n",
    "    - Om 9 uur in de ochtend komen de meeste storingen voor\n",
    "    - Om 10 uur in de ochtend duren de storingen het langst\n",
    "    - Om 22:00 duren de storingen gemiddeld het langst"
   ]
  },
  {
   "cell_type": "code",
   "execution_count": 20,
   "metadata": {},
   "outputs": [
    {
     "data": {
      "image/png": "[encoded data removed]",
      "text/plain": [
       "<Figure size 1440x1080 with 9 Axes>"
      ]
     },
     "metadata": {
      "needs_background": "light"
     },
     "output_type": "display_data"
    }
   ],
   "source": [
    "fig, axs = plt.subplots(3, 3,figsize=(20, 15))\n",
    "list1 = [\"Weekdag\",\"Maand\",\"Uur\"]\n",
    "for i in range(len(list1)):\n",
    "    if i == 0:\n",
    "        dataset2 = dataset.groupby(dataset['stm_sap_meld_ddt'].dt.weekday)\n",
    "    if i == 1:\n",
    "        dataset2 = dataset.groupby(dataset['stm_sap_meld_ddt'].dt.month)\n",
    "    if i == 2:\n",
    "        dataset2 = dataset.groupby(dataset['stm_sap_meld_ddt'].dt.hour)\n",
    "\n",
    "        \n",
    "    axs[0, i].bar(dataset2.count().index, dataset2['stm_fh_duur_2'].sum())\n",
    "    axs[0, i].set_title(list1[i] + \" totaal duur storingen\")\n",
    "\n",
    "    axs[1, i].bar(dataset2.count().index,dataset2['stm_fh_duur_2'].count())\n",
    "    axs[1, i].set_title(list1[i] + \" aantal storingen\")\n",
    "\n",
    "    axs[2, i].bar(dataset2.count().index,dataset2['stm_fh_duur_2'].sum() / dataset2['stm_fh_duur_2'].count())\n",
    "    axs[2, i].set_title(list1[i] + \" gemiddelde duur storing\")\n",
    "    \n",
    "plt.show()"
   ]
  },
  {
   "cell_type": "markdown",
   "metadata": {},
   "source": [
    "#### Conclusie"
   ]
  },
  {
   "cell_type": "markdown",
   "metadata": {},
   "source": [
    "In de onderstaande plots van het figuur hierboven, zien we dat de uitkomsten vrij uniform zijn als we kijken naar het gemiddelde. Hieruit kunnen we concluderen dat deze factoren niet veel invloed zullen hebben in ons voorspellingsmodel. Dit hebben we uiteraard ook eerst getest. Daarom zullen we deze niet meenemen."
   ]
  },
  {
   "cell_type": "markdown",
   "metadata": {},
   "source": [
    "## Baseline\n",
    "--- \n",
    "\n",
    "In het baseline model zullen we het gemiddelde nemen van storings-duur in de jaren <b>2017</b> en <b>2018</b>."
   ]
  },
  {
   "cell_type": "code",
   "execution_count": 21,
   "metadata": {},
   "outputs": [],
   "source": [
    "baseline_dataset = dataset[[\"stm_fh_duur_2\", \"stm_sap_meld_ddt\"]]"
   ]
  },
  {
   "cell_type": "code",
   "execution_count": 22,
   "metadata": {},
   "outputs": [],
   "source": [
    "baseline_train = dataset['stm_fh_duur_2'][baseline_dataset[\"stm_sap_meld_ddt\"].dt.year < 2019]\n",
    "baseline_test = dataset['stm_fh_duur_2'][baseline_dataset[\"stm_sap_meld_ddt\"].dt.year == 2019]"
   ]
  },
  {
   "cell_type": "code",
   "execution_count": 23,
   "metadata": {},
   "outputs": [],
   "source": [
    "baseline_pred = [baseline_train.mean()]*len(baseline_test)"
   ]
  },
  {
   "cell_type": "code",
   "execution_count": 24,
   "metadata": {},
   "outputs": [
    {
     "data": {
      "text/plain": [
       "53.251100947959465"
      ]
     },
     "execution_count": 24,
     "metadata": {},
     "output_type": "execute_result"
    }
   ],
   "source": [
    "math.sqrt(mean_squared_error(baseline_test, baseline_pred))"
   ]
  },
  {
   "cell_type": "markdown",
   "metadata": {},
   "source": [
    "Zoals je ziet behalen we een <b>Mean Squeared Error (MSE)</b> van 53.25 in het baseline model. Dit betekent dat er een gemiddelde kwadratische afwijking is van 53.25 minuten bij het berekenen van de storings-duur."
   ]
  },
  {
   "cell_type": "markdown",
   "metadata": {},
   "source": [
    "#### Categoriaal\n",
    "\n",
    "--- \n",
    "Omdat in de dataset veel categoriale kolommen voorkomen, hebben wij ervoor gekozen om ook een categoriaal model te gebruiken. Hiervoor moeten wij de <b>accuracy score</b> berekenen i.p.v. de <b>MSE</b> zoals hierboven berekend.\n",
    "\n",
    "Voor de baseline worden de storingen opgedeeld in categorieën per 30 minuten."
   ]
  },
  {
   "cell_type": "code",
   "execution_count": 25,
   "metadata": {},
   "outputs": [],
   "source": [
    "baseline_train = dataset['stm_fh_duur_2'][dataset[\"stm_sap_meld_ddt\"].dt.year < 2019]\n",
    "baseline_train_cat = baseline_train // 15\n",
    "baseline_test = dataset['stm_fh_duur_2'][dataset[\"stm_sap_meld_ddt\"].dt.year == 2019]\n",
    "baseline_test_cat = baseline_test // 15"
   ]
  },
  {
   "cell_type": "code",
   "execution_count": 26,
   "metadata": {},
   "outputs": [],
   "source": [
    "baseline_pred = [baseline_train.mean()]*len(baseline_test)\n",
    "baseline_pred_cat = [baseline_train_cat.mode()]*len(baseline_test)"
   ]
  },
  {
   "cell_type": "code",
   "execution_count": 27,
   "metadata": {},
   "outputs": [
    {
     "data": {
      "text/plain": [
       "0.3386282347990743"
      ]
     },
     "execution_count": 27,
     "metadata": {},
     "output_type": "execute_result"
    }
   ],
   "source": [
    "accuracy_score(baseline_pred_cat,baseline_test_cat)"
   ]
  },
  {
   "cell_type": "markdown",
   "metadata": {},
   "source": [
    "Zoals je kunt zien behalen we hier een <b>accuracy score</b> van <b>0.3386</b>. Dit betekent dat we <b>33.9% accuraatheid</b> behalen door het gemiddelde te nemen van de storings-duur"
   ]
  },
  {
   "cell_type": "markdown",
   "metadata": {},
   "source": [
    "#### Histogram met de meest voorkomende aantal storingen per categorie van 15 minuten.\n",
    "\n",
    "---\n",
    "\n",
    "Uit de histogram kunnen we lezen dat de meeste storingen voorkomen in de eerste half uur. Dit betekent dat de meeste storingen niet langer duren dan 15 minuten."
   ]
  },
  {
   "cell_type": "code",
   "execution_count": 68,
   "metadata": {
    "scrolled": true
   },
   "outputs": [
    {
     "data": {
      "image/png": "[encoded data removed]",
      "text/plain": [
       "<Figure size 432x288 with 1 Axes>"
      ]
     },
     "metadata": {
      "needs_background": "light"
     },
     "output_type": "display_data"
    }
   ],
   "source": [
    "plt.hist(baseline_test_cat,bins=int(max(baseline_test_cat)))\n",
    "plt.xlabel('Categorie van 15 (min)')\n",
    "plt.ylabel('Aantal storingen')\n",
    "plt.show()"
   ]
  },
  {
   "cell_type": "markdown",
   "metadata": {},
   "source": [
    "#### Accuracy score per categorie-grootte\n",
    "\n",
    "---\n",
    "\n",
    "In de onderstaande grafiek laten we de precisie tonen per categorie-grootte\n",
    "   - Als een storing valt onder <b>40</b> minuten, is er een accuracy score van <b>60 (%)</b>\n",
    "   - Als je een grootte neemt <b>120 minuten</b> haal je de beste accuracy\n",
    "   - We hebben er uiteindelijk toch voor gekozen om een grootte te nemen van <b>15 minuten</b>. Dit hebben we namelijk samen met de Product Owner overlegd."
   ]
  },
  {
   "cell_type": "code",
   "execution_count": 30,
   "metadata": {},
   "outputs": [
    {
     "data": {
      "image/png": "[encoded data removed]",
      "text/plain": [
       "<Figure size 432x288 with 1 Axes>"
      ]
     },
     "metadata": {
      "needs_background": "light"
     },
     "output_type": "display_data"
    }
   ],
   "source": [
    "for i in range(120,1,-10):\n",
    "    baseline_train_cat = baseline_train // i\n",
    "    baseline_test_cat = baseline_test // i\n",
    "    baseline_pred_cat = [baseline_train_cat.mode()]*len(baseline_test_cat)\n",
    "    plt.scatter(i,float(accuracy_score(baseline_pred_cat,baseline_test_cat) * 100),c='blue')\n",
    "\n",
    "plt.ylabel(\"Precisie (%)\")\n",
    "plt.xlabel(\"Hoe groot is de categorie (min)\")\n",
    "plt.grid(True)\n",
    "plt.show()"
   ]
  },
  {
   "cell_type": "markdown",
   "metadata": {},
   "source": [
    "## Model\n",
    "---"
   ]
  },
  {
   "cell_type": "markdown",
   "metadata": {},
   "source": [
    "#### Dataset voorbereiden voor model-training\n",
    "\n",
    "--- \n",
    "\n",
    "De uiteindelijke dataset bestaat uit:\n",
    "- De categoriale waarden <b>stm_prioriteit</b>, <b>stm_techn_gst</b>, <b>stm_oorz_groep</b>\n",
    "- De numerieke waarden <b>stm_sap_meld_ddt</b> en <b>stm_fh_duur_2</b>"
   ]
  },
  {
   "cell_type": "code",
   "execution_count": 31,
   "metadata": {},
   "outputs": [
    {
     "name": "stderr",
     "output_type": "stream",
     "text": [
      "/Users/wolfsinem/Library/Python/3.7/lib/python/site-packages/ipykernel_launcher.py:3: SettingWithCopyWarning: \n",
      "A value is trying to be set on a copy of a slice from a DataFrame\n",
      "\n",
      "See the caveats in the documentation: http://pandas.pydata.org/pandas-docs/stable/user_guide/indexing.html#returning-a-view-versus-a-copy\n",
      "  This is separate from the ipykernel package so we can avoid doing imports until\n"
     ]
    }
   ],
   "source": [
    "category_columns = [\"stm_prioriteit\", \"stm_techn_gst\", \"stm_oorz_groep\"]\n",
    "model_dataset = dataset[['stm_sap_meld_ddt','stm_fh_duur_2'] + category_columns]\n",
    "model_dataset.dropna(inplace=True)"
   ]
  },
  {
   "cell_type": "markdown",
   "metadata": {},
   "source": [
    "#### In de onderstaande figuur is er een overzicht te zien per kolom en het aantal extra kolommen (dummies) wat gegenereerd wordt.\n",
    "- Kolom stm_prioriteit heeft bijvoorbeeld 7 extra kolommen"
   ]
  },
  {
   "attachments": {
    "unknown.png": {
     "image/png": "[encoded data removed]"
    }
   },
   "cell_type": "markdown",
   "metadata": {},
   "source": [
    "![unknown.png](attachment:unknown.png)"
   ]
  },
  {
   "cell_type": "markdown",
   "metadata": {},
   "source": [
    "#### Hieronder worden de dummies aan de model_dataset toegevoegd en veranderen we de data type van de categoriale kolommen naar 'category'."
   ]
  },
  {
   "cell_type": "code",
   "execution_count": 32,
   "metadata": {},
   "outputs": [
    {
     "name": "stderr",
     "output_type": "stream",
     "text": [
      "/usr/local/lib/python3.7/site-packages/pandas/core/frame.py:3509: SettingWithCopyWarning: \n",
      "A value is trying to be set on a copy of a slice from a DataFrame.\n",
      "Try using .loc[row_indexer,col_indexer] = value instead\n",
      "\n",
      "See the caveats in the documentation: http://pandas.pydata.org/pandas-docs/stable/user_guide/indexing.html#returning-a-view-versus-a-copy\n",
      "  self[k1] = value[k2]\n"
     ]
    }
   ],
   "source": [
    "model_dataset[category_columns] = model_dataset[category_columns].astype('category')\n",
    "dummy_dataset = pd.get_dummies(model_dataset[category_columns])\n",
    "model_dataset = model_dataset.merge(dummy_dataset,left_index=True, right_index=True)\n",
    "model_dataset.drop(category_columns,axis=1, inplace=True)"
   ]
  },
  {
   "cell_type": "markdown",
   "metadata": {},
   "source": [
    "#### Om het uiteindelijke model te trainen en testen worden hiervoor train- en testsets aangemaakt:\n",
    "\n",
    "- <b>model_train_X</b>\n",
    "    - De 'Independent Variables' waarin alleen data wordt meegenomen tussen 2017 en 2019\n",
    "- <b>model_train_y</b>\n",
    "    - De 'Target Variable' waarin we kolom <b>stm_fh_duur_2</b> tussen 2017 en 2019 meenemen omdat we deze willen voorspellen\n",
    "- <b>model_train_y_cat</b>\n",
    "    - De 'Target Variable' per categorie van 30 minuten, tussen 2017 en 2019\n",
    "    \n",
    "---\n",
    "\n",
    "- <b>model_test_X</b>\n",
    "    - De 'Independent Variables' waarin alleen data wordt meegenomen uit 2019\n",
    "- <b>model_test_y</b>\n",
    "    - De 'Target Variable' waarin we kolom <b>stm_fh_duur_2</b> uit 2019 meenemen omdat we deze willen voorspellen\n",
    "- <b>model_test_y_cat</b>\n",
    "    - De 'Target Variable' per categorie van 30 minuten, in 2019"
   ]
  },
  {
   "cell_type": "code",
   "execution_count": 33,
   "metadata": {},
   "outputs": [],
   "source": [
    "model_train_X = model_dataset[dummy_dataset.columns][model_dataset[\"stm_sap_meld_ddt\"].dt.year < 2019]\n",
    "model_train_y = round(model_dataset[\"stm_fh_duur_2\"][model_dataset[\"stm_sap_meld_ddt\"].dt.year < 2019]).astype('int')\n",
    "model_train_y_cat = model_dataset[\"stm_fh_duur_2\"][model_dataset[\"stm_sap_meld_ddt\"].dt.year < 2019] // 15\n",
    "\n",
    "model_test_X = model_dataset[dummy_dataset.columns][model_dataset[\"stm_sap_meld_ddt\"].dt.year == 2019]\n",
    "model_test_y = round(model_dataset[\"stm_fh_duur_2\"][model_dataset[\"stm_sap_meld_ddt\"].dt.year == 2019]).astype('int')\n",
    "model_test_y_cat = model_dataset[\"stm_fh_duur_2\"][model_dataset[\"stm_sap_meld_ddt\"].dt.year == 2019] // 15"
   ]
  },
  {
   "cell_type": "markdown",
   "metadata": {},
   "source": [
    "#### Model-training \n",
    "\n",
    "--- \n",
    "\n",
    "Tijdens het onderzoek in het vinden van een goed model hebben we verschillende modellen uitgeprobeerd en daaruit kwam voort dat we met het DecisionTreeClassifier model de beste score behalen."
   ]
  },
  {
   "cell_type": "code",
   "execution_count": 34,
   "metadata": {},
   "outputs": [
    {
     "data": {
      "text/plain": [
       "DecisionTreeClassifier(ccp_alpha=0.0, class_weight=None, criterion='entropy',\n",
       "                       max_depth=None, max_features=None, max_leaf_nodes=None,\n",
       "                       min_impurity_decrease=0.0, min_impurity_split=None,\n",
       "                       min_samples_leaf=1, min_samples_split=2,\n",
       "                       min_weight_fraction_leaf=0.0, presort='deprecated',\n",
       "                       random_state=None, splitter='best')"
      ]
     },
     "execution_count": 34,
     "metadata": {},
     "output_type": "execute_result"
    }
   ],
   "source": [
    "model = DecisionTreeClassifier(criterion='entropy')\n",
    "model.fit(model_train_X, model_train_y_cat)"
   ]
  },
  {
   "cell_type": "code",
   "execution_count": 35,
   "metadata": {},
   "outputs": [
    {
     "data": {
      "text/plain": [
       "0.3355034235043215"
      ]
     },
     "execution_count": 35,
     "metadata": {},
     "output_type": "execute_result"
    }
   ],
   "source": [
    "model.score(model_test_X, model_test_y_cat)"
   ]
  },
  {
   "cell_type": "markdown",
   "metadata": {},
   "source": [
    "#### Zoals je ziet hebben we met het DecisionTreeClassifier model een score behaald van: 0.3355. Dit houdt in dat we in 33.5% van de gevallen de juiste categorie voorspellen waarin een storings-duur valt."
   ]
  },
  {
   "cell_type": "markdown",
   "metadata": {},
   "source": [
    "#### Visualisatie Decision Tree\n",
    "\n",
    "--- \n",
    "\n",
    "Door de grootte van de tree is het lastig om deze op een duidelijke manier te visualiseren in de notebook. In de bijlage wordt er een pdf toegevoegd met de volledige tree."
   ]
  },
  {
   "attachments": {
    "Screenshot%202020-07-09%20at%2014.59.57.png": {
     "image/png": "[encoded data removed]"
    }
   },
   "cell_type": "markdown",
   "metadata": {},
   "source": [
    "![Screenshot%202020-07-09%20at%2014.59.57.png](attachment:Screenshot%202020-07-09%20at%2014.59.57.png)"
   ]
  },
  {
   "cell_type": "markdown",
   "metadata": {},
   "source": [
    "# Validatie\n",
    "\n",
    "---\n",
    "\n",
    "In dit deel van de notebook zullen we ons model gaan valideren aan de hand van de validatieset."
   ]
  },
  {
   "cell_type": "markdown",
   "metadata": {},
   "source": [
    "#### Importeren van de validatie dataset"
   ]
  },
  {
   "cell_type": "code",
   "execution_count": 37,
   "metadata": {},
   "outputs": [],
   "source": [
    "validatie_set = pd.read_csv(\"Validatieset_CSV_-_zonder_targetvariabelen_V2.csv\", delimiter=\";\")"
   ]
  },
  {
   "cell_type": "code",
   "execution_count": 38,
   "metadata": {},
   "outputs": [
    {
     "data": {
      "text/html": [
       "<div>\n",
       "<style scoped>\n",
       "    .dataframe tbody tr th:only-of-type {\n",
       "        vertical-align: middle;\n",
       "    }\n",
       "\n",
       "    .dataframe tbody tr th {\n",
       "        vertical-align: top;\n",
       "    }\n",
       "\n",
       "    .dataframe thead th {\n",
       "        text-align: right;\n",
       "    }\n",
       "</style>\n",
       "<table border=\"1\" class=\"dataframe\">\n",
       "  <thead>\n",
       "    <tr style=\"text-align: right;\">\n",
       "      <th></th>\n",
       "      <th>ID</th>\n",
       "      <th>#stm_sap_meldnr</th>\n",
       "      <th>stm_mon_nr</th>\n",
       "      <th>stm_vl_post</th>\n",
       "      <th>stm_sap_meld_ddt</th>\n",
       "      <th>stm_sap_mon_meld_ddt</th>\n",
       "      <th>stm_sap_meldtekst_lang</th>\n",
       "      <th>stm_mon_begin_ddt</th>\n",
       "      <th>stm_sap_meldtekst</th>\n",
       "      <th>stm_mon_toelichting_trdl</th>\n",
       "      <th>...</th>\n",
       "      <th>stm_rapportage_maand</th>\n",
       "      <th>stm_rapportage_jaar</th>\n",
       "      <th>stm_x_bron_publ_dt</th>\n",
       "      <th>stm_x_bron_bestandsnaam</th>\n",
       "      <th>stm_x_bron_arch_dt</th>\n",
       "      <th>stm_x_actueel_ind</th>\n",
       "      <th>stm_x_run_id</th>\n",
       "      <th>stm_x_bk</th>\n",
       "      <th>stm_x_start_sessie_dt</th>\n",
       "      <th>stm_x_vervallen_ind</th>\n",
       "    </tr>\n",
       "  </thead>\n",
       "  <tbody>\n",
       "    <tr>\n",
       "      <th>0</th>\n",
       "      <td>160476</td>\n",
       "      <td>70277067</td>\n",
       "      <td>0.0</td>\n",
       "      <td>NaN</td>\n",
       "      <td>25/05/2017 15:16:37</td>\n",
       "      <td>25/05/2017 15:16:37</td>\n",
       "      <td>Vry : km 55.9 Spoor 353 smeulende biels.</td>\n",
       "      <td>NaN</td>\n",
       "      <td>Vry : km 55.9 Spoor 353 smeulende biels.</td>\n",
       "      <td>NaN</td>\n",
       "      <td>...</td>\n",
       "      <td>11</td>\n",
       "      <td>2017</td>\n",
       "      <td>13/11/2017 06:00:07</td>\n",
       "      <td>E:\\Informatica\\Inbox\\Informatica\\SAP\\Storingen...</td>\n",
       "      <td>31/12/9999 00:00:00</td>\n",
       "      <td>1</td>\n",
       "      <td>278241</td>\n",
       "      <td>3740168</td>\n",
       "      <td>13/11/2017 06:06:30</td>\n",
       "      <td>0</td>\n",
       "    </tr>\n",
       "    <tr>\n",
       "      <th>1</th>\n",
       "      <td>160480</td>\n",
       "      <td>70277073</td>\n",
       "      <td>4315506.0</td>\n",
       "      <td>EHV</td>\n",
       "      <td>25/05/2017 15:49:40</td>\n",
       "      <td>25/05/2017 15:41:00</td>\n",
       "      <td>Btl-Vga : GRS SSL sectie 607CT VGA-BTL  Rijric...</td>\n",
       "      <td>25/05/2017 15:41:00</td>\n",
       "      <td>Btl-Vga : GRS SSL sectie 607CT VGA-BTL</td>\n",
       "      <td>F5 - Spoor/wissels</td>\n",
       "      <td>...</td>\n",
       "      <td>10</td>\n",
       "      <td>2017</td>\n",
       "      <td>17/10/2017 06:00:16</td>\n",
       "      <td>E:\\Informatica\\Inbox\\Informatica\\SAP\\Storingen...</td>\n",
       "      <td>31/12/9999 00:00:00</td>\n",
       "      <td>1</td>\n",
       "      <td>251580</td>\n",
       "      <td>3740170</td>\n",
       "      <td>17/10/2017 06:06:04</td>\n",
       "      <td>0</td>\n",
       "    </tr>\n",
       "    <tr>\n",
       "      <th>2</th>\n",
       "      <td>160482</td>\n",
       "      <td>70277079</td>\n",
       "      <td>4315569.0</td>\n",
       "      <td>KFH</td>\n",
       "      <td>25/05/2017 16:38:20</td>\n",
       "      <td>25/05/2017 17:11:00</td>\n",
       "      <td>Bot-Ps : Botbr geen rijweginstelling mogelijk ...</td>\n",
       "      <td>25/05/2017 17:11:00</td>\n",
       "      <td>Bot-Ps : Botbr geen rijweginstelling mog</td>\n",
       "      <td>F5 - Spoor/wissels</td>\n",
       "      <td>...</td>\n",
       "      <td>7</td>\n",
       "      <td>2017</td>\n",
       "      <td>17/07/2017 09:25:15</td>\n",
       "      <td>E:\\Informatica\\Inbox\\Informatica\\SAP\\Storingen...</td>\n",
       "      <td>31/12/9999 00:00:00</td>\n",
       "      <td>1</td>\n",
       "      <td>162293</td>\n",
       "      <td>3740171</td>\n",
       "      <td>17/07/2017 09:27:43</td>\n",
       "      <td>0</td>\n",
       "    </tr>\n",
       "    <tr>\n",
       "      <th>3</th>\n",
       "      <td>160483</td>\n",
       "      <td>70277081</td>\n",
       "      <td>0.0</td>\n",
       "      <td>NaN</td>\n",
       "      <td>25/05/2017 16:41:44</td>\n",
       "      <td>25/05/2017 16:41:44</td>\n",
       "      <td>Ddr-Wld : Sp-PA km 25.180 HOTBOX 119 loc 2141 ...</td>\n",
       "      <td>NaN</td>\n",
       "      <td>Ddr-Wld : Sp-PA km 25.180 HOTBOX 119 loc</td>\n",
       "      <td>NaN</td>\n",
       "      <td>...</td>\n",
       "      <td>5</td>\n",
       "      <td>2017</td>\n",
       "      <td>26/05/2017 06:00:11</td>\n",
       "      <td>E:\\Informatica\\Inbox\\Informatica\\SAP\\Storingen...</td>\n",
       "      <td>31/12/9999 00:00:00</td>\n",
       "      <td>1</td>\n",
       "      <td>117414</td>\n",
       "      <td>3740172</td>\n",
       "      <td>30/05/2017 06:05:35</td>\n",
       "      <td>0</td>\n",
       "    </tr>\n",
       "    <tr>\n",
       "      <th>4</th>\n",
       "      <td>160488</td>\n",
       "      <td>70277086</td>\n",
       "      <td>4315597.0</td>\n",
       "      <td>ZL</td>\n",
       "      <td>25/05/2017 17:15:14</td>\n",
       "      <td>25/05/2017 17:43:00</td>\n",
       "      <td>Ns : Sp-122 smeulende dwl (halverwege perron).</td>\n",
       "      <td>25/05/2017 17:43:00</td>\n",
       "      <td>Ns : Sp-122 smeulende dwl (halverwege pe</td>\n",
       "      <td>F5 - Spoor/wissels</td>\n",
       "      <td>...</td>\n",
       "      <td>10</td>\n",
       "      <td>2017</td>\n",
       "      <td>17/10/2017 06:00:16</td>\n",
       "      <td>E:\\Informatica\\Inbox\\Informatica\\SAP\\Storingen...</td>\n",
       "      <td>31/12/9999 00:00:00</td>\n",
       "      <td>1</td>\n",
       "      <td>251580</td>\n",
       "      <td>3740174</td>\n",
       "      <td>17/10/2017 06:06:04</td>\n",
       "      <td>0</td>\n",
       "    </tr>\n",
       "  </tbody>\n",
       "</table>\n",
       "<p>5 rows × 122 columns</p>\n",
       "</div>"
      ],
      "text/plain": [
       "       ID  #stm_sap_meldnr  stm_mon_nr stm_vl_post     stm_sap_meld_ddt  \\\n",
       "0  160476         70277067         0.0         NaN  25/05/2017 15:16:37   \n",
       "1  160480         70277073   4315506.0         EHV  25/05/2017 15:49:40   \n",
       "2  160482         70277079   4315569.0         KFH  25/05/2017 16:38:20   \n",
       "3  160483         70277081         0.0         NaN  25/05/2017 16:41:44   \n",
       "4  160488         70277086   4315597.0          ZL  25/05/2017 17:15:14   \n",
       "\n",
       "  stm_sap_mon_meld_ddt                             stm_sap_meldtekst_lang  \\\n",
       "0  25/05/2017 15:16:37           Vry : km 55.9 Spoor 353 smeulende biels.   \n",
       "1  25/05/2017 15:41:00  Btl-Vga : GRS SSL sectie 607CT VGA-BTL  Rijric...   \n",
       "2  25/05/2017 17:11:00  Bot-Ps : Botbr geen rijweginstelling mogelijk ...   \n",
       "3  25/05/2017 16:41:44  Ddr-Wld : Sp-PA km 25.180 HOTBOX 119 loc 2141 ...   \n",
       "4  25/05/2017 17:43:00     Ns : Sp-122 smeulende dwl (halverwege perron).   \n",
       "\n",
       "     stm_mon_begin_ddt                         stm_sap_meldtekst  \\\n",
       "0                  NaN  Vry : km 55.9 Spoor 353 smeulende biels.   \n",
       "1  25/05/2017 15:41:00    Btl-Vga : GRS SSL sectie 607CT VGA-BTL   \n",
       "2  25/05/2017 17:11:00  Bot-Ps : Botbr geen rijweginstelling mog   \n",
       "3                  NaN  Ddr-Wld : Sp-PA km 25.180 HOTBOX 119 loc   \n",
       "4  25/05/2017 17:43:00  Ns : Sp-122 smeulende dwl (halverwege pe   \n",
       "\n",
       "  stm_mon_toelichting_trdl  ... stm_rapportage_maand  stm_rapportage_jaar  \\\n",
       "0                      NaN  ...                   11                 2017   \n",
       "1       F5 - Spoor/wissels  ...                   10                 2017   \n",
       "2       F5 - Spoor/wissels  ...                    7                 2017   \n",
       "3                      NaN  ...                    5                 2017   \n",
       "4       F5 - Spoor/wissels  ...                   10                 2017   \n",
       "\n",
       "    stm_x_bron_publ_dt                            stm_x_bron_bestandsnaam  \\\n",
       "0  13/11/2017 06:00:07  E:\\Informatica\\Inbox\\Informatica\\SAP\\Storingen...   \n",
       "1  17/10/2017 06:00:16  E:\\Informatica\\Inbox\\Informatica\\SAP\\Storingen...   \n",
       "2  17/07/2017 09:25:15  E:\\Informatica\\Inbox\\Informatica\\SAP\\Storingen...   \n",
       "3  26/05/2017 06:00:11  E:\\Informatica\\Inbox\\Informatica\\SAP\\Storingen...   \n",
       "4  17/10/2017 06:00:16  E:\\Informatica\\Inbox\\Informatica\\SAP\\Storingen...   \n",
       "\n",
       "    stm_x_bron_arch_dt stm_x_actueel_ind  stm_x_run_id  stm_x_bk  \\\n",
       "0  31/12/9999 00:00:00                 1        278241   3740168   \n",
       "1  31/12/9999 00:00:00                 1        251580   3740170   \n",
       "2  31/12/9999 00:00:00                 1        162293   3740171   \n",
       "3  31/12/9999 00:00:00                 1        117414   3740172   \n",
       "4  31/12/9999 00:00:00                 1        251580   3740174   \n",
       "\n",
       "   stm_x_start_sessie_dt stm_x_vervallen_ind  \n",
       "0    13/11/2017 06:06:30                   0  \n",
       "1    17/10/2017 06:06:04                   0  \n",
       "2    17/07/2017 09:27:43                   0  \n",
       "3    30/05/2017 06:05:35                   0  \n",
       "4    17/10/2017 06:06:04                   0  \n",
       "\n",
       "[5 rows x 122 columns]"
      ]
     },
     "execution_count": 38,
     "metadata": {},
     "output_type": "execute_result"
    }
   ],
   "source": [
    "validatie_set.head()"
   ]
  },
  {
   "cell_type": "markdown",
   "metadata": {},
   "source": [
    "#### Voor de validatie dataset nemen we de categoriale kolommen die ook in model_dataset zijn meegenomen"
   ]
  },
  {
   "cell_type": "code",
   "execution_count": 39,
   "metadata": {},
   "outputs": [],
   "source": [
    "validatie_set = validatie_set[category_columns]"
   ]
  },
  {
   "cell_type": "markdown",
   "metadata": {},
   "source": [
    "#### Voor de validatie dataset worden ook dummies toegevoegd. Dit wordt gedaan volgens de zelfde stappen als de model_dataset."
   ]
  },
  {
   "cell_type": "code",
   "execution_count": 41,
   "metadata": {},
   "outputs": [],
   "source": [
    "validatie_set[category_columns] = validatie_set[category_columns].astype('category')\n",
    "dummy_dataset = pd.get_dummies(validatie_set[category_columns])\n",
    "validatie_set = validatie_set.merge(dummy_dataset,left_index=True, right_index=True)\n",
    "validatie_set.drop(category_columns,axis=1, inplace=True)"
   ]
  },
  {
   "cell_type": "code",
   "execution_count": 42,
   "metadata": {},
   "outputs": [
    {
     "data": {
      "text/html": [
       "<div>\n",
       "<style scoped>\n",
       "    .dataframe tbody tr th:only-of-type {\n",
       "        vertical-align: middle;\n",
       "    }\n",
       "\n",
       "    .dataframe tbody tr th {\n",
       "        vertical-align: top;\n",
       "    }\n",
       "\n",
       "    .dataframe thead th {\n",
       "        text-align: right;\n",
       "    }\n",
       "</style>\n",
       "<table border=\"1\" class=\"dataframe\">\n",
       "  <thead>\n",
       "    <tr style=\"text-align: right;\">\n",
       "      <th></th>\n",
       "      <th>stm_prioriteit_1.0</th>\n",
       "      <th>stm_prioriteit_2.0</th>\n",
       "      <th>stm_prioriteit_4.0</th>\n",
       "      <th>stm_prioriteit_5.0</th>\n",
       "      <th>stm_techn_gst_B</th>\n",
       "      <th>stm_techn_gst_E</th>\n",
       "      <th>stm_techn_gst_G</th>\n",
       "      <th>stm_techn_gst_I</th>\n",
       "      <th>stm_techn_gst_K</th>\n",
       "      <th>stm_techn_gst_O</th>\n",
       "      <th>stm_techn_gst_P</th>\n",
       "      <th>stm_techn_gst_S</th>\n",
       "      <th>stm_techn_gst_T</th>\n",
       "      <th>stm_oorz_groep_ONR-DERD</th>\n",
       "      <th>stm_oorz_groep_ONR-RIB</th>\n",
       "      <th>stm_oorz_groep_TECHONV</th>\n",
       "      <th>stm_oorz_groep_WEER</th>\n",
       "    </tr>\n",
       "  </thead>\n",
       "  <tbody>\n",
       "    <tr>\n",
       "      <th>0</th>\n",
       "      <td>0</td>\n",
       "      <td>1</td>\n",
       "      <td>0</td>\n",
       "      <td>0</td>\n",
       "      <td>1</td>\n",
       "      <td>0</td>\n",
       "      <td>0</td>\n",
       "      <td>0</td>\n",
       "      <td>0</td>\n",
       "      <td>0</td>\n",
       "      <td>0</td>\n",
       "      <td>0</td>\n",
       "      <td>0</td>\n",
       "      <td>0</td>\n",
       "      <td>0</td>\n",
       "      <td>0</td>\n",
       "      <td>1</td>\n",
       "    </tr>\n",
       "    <tr>\n",
       "      <th>1</th>\n",
       "      <td>0</td>\n",
       "      <td>1</td>\n",
       "      <td>0</td>\n",
       "      <td>0</td>\n",
       "      <td>0</td>\n",
       "      <td>0</td>\n",
       "      <td>0</td>\n",
       "      <td>0</td>\n",
       "      <td>0</td>\n",
       "      <td>0</td>\n",
       "      <td>0</td>\n",
       "      <td>1</td>\n",
       "      <td>0</td>\n",
       "      <td>0</td>\n",
       "      <td>0</td>\n",
       "      <td>0</td>\n",
       "      <td>1</td>\n",
       "    </tr>\n",
       "    <tr>\n",
       "      <th>2</th>\n",
       "      <td>0</td>\n",
       "      <td>1</td>\n",
       "      <td>0</td>\n",
       "      <td>0</td>\n",
       "      <td>0</td>\n",
       "      <td>0</td>\n",
       "      <td>0</td>\n",
       "      <td>0</td>\n",
       "      <td>1</td>\n",
       "      <td>0</td>\n",
       "      <td>0</td>\n",
       "      <td>0</td>\n",
       "      <td>0</td>\n",
       "      <td>0</td>\n",
       "      <td>0</td>\n",
       "      <td>1</td>\n",
       "      <td>0</td>\n",
       "    </tr>\n",
       "    <tr>\n",
       "      <th>3</th>\n",
       "      <td>0</td>\n",
       "      <td>0</td>\n",
       "      <td>0</td>\n",
       "      <td>1</td>\n",
       "      <td>0</td>\n",
       "      <td>0</td>\n",
       "      <td>0</td>\n",
       "      <td>0</td>\n",
       "      <td>0</td>\n",
       "      <td>0</td>\n",
       "      <td>0</td>\n",
       "      <td>1</td>\n",
       "      <td>0</td>\n",
       "      <td>0</td>\n",
       "      <td>0</td>\n",
       "      <td>1</td>\n",
       "      <td>0</td>\n",
       "    </tr>\n",
       "    <tr>\n",
       "      <th>4</th>\n",
       "      <td>0</td>\n",
       "      <td>1</td>\n",
       "      <td>0</td>\n",
       "      <td>0</td>\n",
       "      <td>1</td>\n",
       "      <td>0</td>\n",
       "      <td>0</td>\n",
       "      <td>0</td>\n",
       "      <td>0</td>\n",
       "      <td>0</td>\n",
       "      <td>0</td>\n",
       "      <td>0</td>\n",
       "      <td>0</td>\n",
       "      <td>1</td>\n",
       "      <td>0</td>\n",
       "      <td>0</td>\n",
       "      <td>0</td>\n",
       "    </tr>\n",
       "  </tbody>\n",
       "</table>\n",
       "</div>"
      ],
      "text/plain": [
       "   stm_prioriteit_1.0  stm_prioriteit_2.0  stm_prioriteit_4.0  \\\n",
       "0                   0                   1                   0   \n",
       "1                   0                   1                   0   \n",
       "2                   0                   1                   0   \n",
       "3                   0                   0                   0   \n",
       "4                   0                   1                   0   \n",
       "\n",
       "   stm_prioriteit_5.0  stm_techn_gst_B  stm_techn_gst_E  stm_techn_gst_G  \\\n",
       "0                   0                1                0                0   \n",
       "1                   0                0                0                0   \n",
       "2                   0                0                0                0   \n",
       "3                   1                0                0                0   \n",
       "4                   0                1                0                0   \n",
       "\n",
       "   stm_techn_gst_I  stm_techn_gst_K  stm_techn_gst_O  stm_techn_gst_P  \\\n",
       "0                0                0                0                0   \n",
       "1                0                0                0                0   \n",
       "2                0                1                0                0   \n",
       "3                0                0                0                0   \n",
       "4                0                0                0                0   \n",
       "\n",
       "   stm_techn_gst_S  stm_techn_gst_T  stm_oorz_groep_ONR-DERD  \\\n",
       "0                0                0                        0   \n",
       "1                1                0                        0   \n",
       "2                0                0                        0   \n",
       "3                1                0                        0   \n",
       "4                0                0                        1   \n",
       "\n",
       "   stm_oorz_groep_ONR-RIB  stm_oorz_groep_TECHONV  stm_oorz_groep_WEER  \n",
       "0                       0                       0                    1  \n",
       "1                       0                       0                    1  \n",
       "2                       0                       1                    0  \n",
       "3                       0                       1                    0  \n",
       "4                       0                       0                    0  "
      ]
     },
     "execution_count": 42,
     "metadata": {},
     "output_type": "execute_result"
    }
   ],
   "source": [
    "validatie_set.head()"
   ]
  },
  {
   "cell_type": "code",
   "execution_count": 43,
   "metadata": {},
   "outputs": [
    {
     "data": {
      "text/plain": [
       "(89, 17)"
      ]
     },
     "execution_count": 43,
     "metadata": {},
     "output_type": "execute_result"
    }
   ],
   "source": [
    "validatie_set.shape"
   ]
  },
  {
   "cell_type": "code",
   "execution_count": 45,
   "metadata": {},
   "outputs": [
    {
     "data": {
      "text/plain": [
       "(53785, 23)"
      ]
     },
     "execution_count": 45,
     "metadata": {},
     "output_type": "execute_result"
    }
   ],
   "source": [
    "model_train_X.shape"
   ]
  },
  {
   "cell_type": "markdown",
   "metadata": {},
   "source": [
    "#### Als we kijken naar de validatie dataset zien we dat deze 17 kolommen bevat, terwijl de model_train_X 23 kolommen heeft. Door middel van een functie die hieronder wordt uitgevoerd kunnen we achterhalen welke kolommen we missen. De missende kolommen voegen we vervolgens weer toe aan de validatie dataset"
   ]
  },
  {
   "cell_type": "code",
   "execution_count": 46,
   "metadata": {},
   "outputs": [],
   "source": [
    "model_kolommen = model_train_X.columns\n",
    "validatie_kolommen = validatie_set.columns\n",
    "verschil = validatie_kolommen.symmetric_difference(model_kolommen)"
   ]
  },
  {
   "cell_type": "markdown",
   "metadata": {},
   "source": [
    "#### De kolommen die niet in de validatie dataset voorkomen"
   ]
  },
  {
   "cell_type": "code",
   "execution_count": 47,
   "metadata": {},
   "outputs": [
    {
     "data": {
      "text/plain": [
       "Index(['stm_prioriteit_8.0', 'stm_prioriteit_9.0', 'stm_techn_gst_A',\n",
       "       'stm_techn_gst_M', 'stm_techn_gst_R', 'stm_techn_gst_X'],\n",
       "      dtype='object')"
      ]
     },
     "execution_count": 47,
     "metadata": {},
     "output_type": "execute_result"
    }
   ],
   "source": [
    "verschil"
   ]
  },
  {
   "cell_type": "markdown",
   "metadata": {},
   "source": [
    "#### Missende kolommen toevoegen aan de validatie dataset en deze vervolgens in de juiste volgorde zetten"
   ]
  },
  {
   "cell_type": "code",
   "execution_count": 48,
   "metadata": {},
   "outputs": [],
   "source": [
    "for column in verschil:\n",
    "    validatie_set[column] = np.array(0)\n",
    "    \n",
    "validatie_set = validatie_set.reindex(columns=model_train_X.columns)"
   ]
  },
  {
   "cell_type": "code",
   "execution_count": 51,
   "metadata": {},
   "outputs": [
    {
     "data": {
      "text/html": [
       "<div>\n",
       "<style scoped>\n",
       "    .dataframe tbody tr th:only-of-type {\n",
       "        vertical-align: middle;\n",
       "    }\n",
       "\n",
       "    .dataframe tbody tr th {\n",
       "        vertical-align: top;\n",
       "    }\n",
       "\n",
       "    .dataframe thead th {\n",
       "        text-align: right;\n",
       "    }\n",
       "</style>\n",
       "<table border=\"1\" class=\"dataframe\">\n",
       "  <thead>\n",
       "    <tr style=\"text-align: right;\">\n",
       "      <th></th>\n",
       "      <th>stm_prioriteit_1.0</th>\n",
       "      <th>stm_prioriteit_2.0</th>\n",
       "      <th>stm_prioriteit_4.0</th>\n",
       "      <th>stm_prioriteit_5.0</th>\n",
       "      <th>stm_prioriteit_8.0</th>\n",
       "      <th>stm_prioriteit_9.0</th>\n",
       "      <th>stm_techn_gst_A</th>\n",
       "      <th>stm_techn_gst_B</th>\n",
       "      <th>stm_techn_gst_E</th>\n",
       "      <th>stm_techn_gst_G</th>\n",
       "      <th>...</th>\n",
       "      <th>stm_techn_gst_O</th>\n",
       "      <th>stm_techn_gst_P</th>\n",
       "      <th>stm_techn_gst_R</th>\n",
       "      <th>stm_techn_gst_S</th>\n",
       "      <th>stm_techn_gst_T</th>\n",
       "      <th>stm_techn_gst_X</th>\n",
       "      <th>stm_oorz_groep_ONR-DERD</th>\n",
       "      <th>stm_oorz_groep_ONR-RIB</th>\n",
       "      <th>stm_oorz_groep_TECHONV</th>\n",
       "      <th>stm_oorz_groep_WEER</th>\n",
       "    </tr>\n",
       "  </thead>\n",
       "  <tbody>\n",
       "    <tr>\n",
       "      <th>0</th>\n",
       "      <td>0</td>\n",
       "      <td>1</td>\n",
       "      <td>0</td>\n",
       "      <td>0</td>\n",
       "      <td>0</td>\n",
       "      <td>0</td>\n",
       "      <td>0</td>\n",
       "      <td>1</td>\n",
       "      <td>0</td>\n",
       "      <td>0</td>\n",
       "      <td>...</td>\n",
       "      <td>0</td>\n",
       "      <td>0</td>\n",
       "      <td>0</td>\n",
       "      <td>0</td>\n",
       "      <td>0</td>\n",
       "      <td>0</td>\n",
       "      <td>0</td>\n",
       "      <td>0</td>\n",
       "      <td>0</td>\n",
       "      <td>1</td>\n",
       "    </tr>\n",
       "    <tr>\n",
       "      <th>1</th>\n",
       "      <td>0</td>\n",
       "      <td>1</td>\n",
       "      <td>0</td>\n",
       "      <td>0</td>\n",
       "      <td>0</td>\n",
       "      <td>0</td>\n",
       "      <td>0</td>\n",
       "      <td>0</td>\n",
       "      <td>0</td>\n",
       "      <td>0</td>\n",
       "      <td>...</td>\n",
       "      <td>0</td>\n",
       "      <td>0</td>\n",
       "      <td>0</td>\n",
       "      <td>1</td>\n",
       "      <td>0</td>\n",
       "      <td>0</td>\n",
       "      <td>0</td>\n",
       "      <td>0</td>\n",
       "      <td>0</td>\n",
       "      <td>1</td>\n",
       "    </tr>\n",
       "    <tr>\n",
       "      <th>2</th>\n",
       "      <td>0</td>\n",
       "      <td>1</td>\n",
       "      <td>0</td>\n",
       "      <td>0</td>\n",
       "      <td>0</td>\n",
       "      <td>0</td>\n",
       "      <td>0</td>\n",
       "      <td>0</td>\n",
       "      <td>0</td>\n",
       "      <td>0</td>\n",
       "      <td>...</td>\n",
       "      <td>0</td>\n",
       "      <td>0</td>\n",
       "      <td>0</td>\n",
       "      <td>0</td>\n",
       "      <td>0</td>\n",
       "      <td>0</td>\n",
       "      <td>0</td>\n",
       "      <td>0</td>\n",
       "      <td>1</td>\n",
       "      <td>0</td>\n",
       "    </tr>\n",
       "    <tr>\n",
       "      <th>3</th>\n",
       "      <td>0</td>\n",
       "      <td>0</td>\n",
       "      <td>0</td>\n",
       "      <td>1</td>\n",
       "      <td>0</td>\n",
       "      <td>0</td>\n",
       "      <td>0</td>\n",
       "      <td>0</td>\n",
       "      <td>0</td>\n",
       "      <td>0</td>\n",
       "      <td>...</td>\n",
       "      <td>0</td>\n",
       "      <td>0</td>\n",
       "      <td>0</td>\n",
       "      <td>1</td>\n",
       "      <td>0</td>\n",
       "      <td>0</td>\n",
       "      <td>0</td>\n",
       "      <td>0</td>\n",
       "      <td>1</td>\n",
       "      <td>0</td>\n",
       "    </tr>\n",
       "    <tr>\n",
       "      <th>4</th>\n",
       "      <td>0</td>\n",
       "      <td>1</td>\n",
       "      <td>0</td>\n",
       "      <td>0</td>\n",
       "      <td>0</td>\n",
       "      <td>0</td>\n",
       "      <td>0</td>\n",
       "      <td>1</td>\n",
       "      <td>0</td>\n",
       "      <td>0</td>\n",
       "      <td>...</td>\n",
       "      <td>0</td>\n",
       "      <td>0</td>\n",
       "      <td>0</td>\n",
       "      <td>0</td>\n",
       "      <td>0</td>\n",
       "      <td>0</td>\n",
       "      <td>1</td>\n",
       "      <td>0</td>\n",
       "      <td>0</td>\n",
       "      <td>0</td>\n",
       "    </tr>\n",
       "  </tbody>\n",
       "</table>\n",
       "<p>5 rows × 23 columns</p>\n",
       "</div>"
      ],
      "text/plain": [
       "   stm_prioriteit_1.0  stm_prioriteit_2.0  stm_prioriteit_4.0  \\\n",
       "0                   0                   1                   0   \n",
       "1                   0                   1                   0   \n",
       "2                   0                   1                   0   \n",
       "3                   0                   0                   0   \n",
       "4                   0                   1                   0   \n",
       "\n",
       "   stm_prioriteit_5.0  stm_prioriteit_8.0  stm_prioriteit_9.0  \\\n",
       "0                   0                   0                   0   \n",
       "1                   0                   0                   0   \n",
       "2                   0                   0                   0   \n",
       "3                   1                   0                   0   \n",
       "4                   0                   0                   0   \n",
       "\n",
       "   stm_techn_gst_A  stm_techn_gst_B  stm_techn_gst_E  stm_techn_gst_G  ...  \\\n",
       "0                0                1                0                0  ...   \n",
       "1                0                0                0                0  ...   \n",
       "2                0                0                0                0  ...   \n",
       "3                0                0                0                0  ...   \n",
       "4                0                1                0                0  ...   \n",
       "\n",
       "   stm_techn_gst_O  stm_techn_gst_P  stm_techn_gst_R  stm_techn_gst_S  \\\n",
       "0                0                0                0                0   \n",
       "1                0                0                0                1   \n",
       "2                0                0                0                0   \n",
       "3                0                0                0                1   \n",
       "4                0                0                0                0   \n",
       "\n",
       "   stm_techn_gst_T  stm_techn_gst_X  stm_oorz_groep_ONR-DERD  \\\n",
       "0                0                0                        0   \n",
       "1                0                0                        0   \n",
       "2                0                0                        0   \n",
       "3                0                0                        0   \n",
       "4                0                0                        1   \n",
       "\n",
       "   stm_oorz_groep_ONR-RIB  stm_oorz_groep_TECHONV  stm_oorz_groep_WEER  \n",
       "0                       0                       0                    1  \n",
       "1                       0                       0                    1  \n",
       "2                       0                       1                    0  \n",
       "3                       0                       1                    0  \n",
       "4                       0                       0                    0  \n",
       "\n",
       "[5 rows x 23 columns]"
      ]
     },
     "execution_count": 51,
     "metadata": {},
     "output_type": "execute_result"
    }
   ],
   "source": [
    "validatie_set.head()"
   ]
  },
  {
   "cell_type": "markdown",
   "metadata": {},
   "source": [
    "In de dataframe hierboven kunnen we zien dat alle kolommen in orde zijn en we door kunnen met het voorspellen van onze target variabele.\n",
    "\n",
    "---"
   ]
  },
  {
   "cell_type": "markdown",
   "metadata": {},
   "source": [
    "#### Predict uitvoeren op de validatie dataset"
   ]
  },
  {
   "cell_type": "code",
   "execution_count": 52,
   "metadata": {},
   "outputs": [],
   "source": [
    "pred_validatie = pd.Series(model.predict(validatie_set))"
   ]
  },
  {
   "cell_type": "code",
   "execution_count": 53,
   "metadata": {},
   "outputs": [
    {
     "data": {
      "text/plain": [
       "0     0.0\n",
       "1     0.0\n",
       "2     0.0\n",
       "3     0.0\n",
       "4     0.0\n",
       "     ... \n",
       "84    0.0\n",
       "85    0.0\n",
       "86    0.0\n",
       "87    0.0\n",
       "88    0.0\n",
       "Length: 89, dtype: float64"
      ]
     },
     "execution_count": 53,
     "metadata": {},
     "output_type": "execute_result"
    }
   ],
   "source": [
    "pred_validatie"
   ]
  },
  {
   "cell_type": "markdown",
   "metadata": {},
   "source": [
    "#### Validatie dataset met target variabelen inlezen"
   ]
  },
  {
   "cell_type": "code",
   "execution_count": 55,
   "metadata": {},
   "outputs": [],
   "source": [
    "validatie_target_set = pd.read_csv(\"Validatieset_Excel_-_met_targetvariabelen_V2.csv\", delimiter=\";\")"
   ]
  },
  {
   "cell_type": "code",
   "execution_count": 56,
   "metadata": {},
   "outputs": [
    {
     "data": {
      "text/html": [
       "<div>\n",
       "<style scoped>\n",
       "    .dataframe tbody tr th:only-of-type {\n",
       "        vertical-align: middle;\n",
       "    }\n",
       "\n",
       "    .dataframe tbody tr th {\n",
       "        vertical-align: top;\n",
       "    }\n",
       "\n",
       "    .dataframe thead th {\n",
       "        text-align: right;\n",
       "    }\n",
       "</style>\n",
       "<table border=\"1\" class=\"dataframe\">\n",
       "  <thead>\n",
       "    <tr style=\"text-align: right;\">\n",
       "      <th></th>\n",
       "      <th>ID</th>\n",
       "      <th>#stm_sap_meldnr</th>\n",
       "      <th>stm_mon_nr</th>\n",
       "      <th>stm_vl_post</th>\n",
       "      <th>stm_sap_meld_ddt</th>\n",
       "      <th>stm_sap_mon_meld_ddt</th>\n",
       "      <th>stm_sap_meldtekst_lang</th>\n",
       "      <th>stm_mon_begin_ddt</th>\n",
       "      <th>stm_sap_meldtekst</th>\n",
       "      <th>stm_mon_toelichting_trdl</th>\n",
       "      <th>...</th>\n",
       "      <th>stm_progfh_gw_datum</th>\n",
       "      <th>stm_progfh_gw_tijd</th>\n",
       "      <th>stm_fh_dd</th>\n",
       "      <th>stm_fh_tijd</th>\n",
       "      <th>stm_fh_duur</th>\n",
       "      <th>stm_reactie_duur</th>\n",
       "      <th>stm_sap_storeinddatum</th>\n",
       "      <th>stm_sap_storeindtijd</th>\n",
       "      <th>stm_mon_eind_datum</th>\n",
       "      <th>stm_mon_eind_tijd</th>\n",
       "    </tr>\n",
       "  </thead>\n",
       "  <tbody>\n",
       "    <tr>\n",
       "      <th>0</th>\n",
       "      <td>160476</td>\n",
       "      <td>70277067</td>\n",
       "      <td>0.0</td>\n",
       "      <td>NaN</td>\n",
       "      <td>25/05/2017 15:16:37</td>\n",
       "      <td>25/05/2017 15:16:37</td>\n",
       "      <td>Vry : km 55.9 Spoor 353 smeulende biels.</td>\n",
       "      <td>NaN</td>\n",
       "      <td>Vry : km 55.9 Spoor 353 smeulende biels.</td>\n",
       "      <td>NaN</td>\n",
       "      <td>...</td>\n",
       "      <td>25/05/2017</td>\n",
       "      <td>16:10:01</td>\n",
       "      <td>25/05/2017</td>\n",
       "      <td>16:09:00</td>\n",
       "      <td>45.0</td>\n",
       "      <td>32.0</td>\n",
       "      <td>25/05/2017</td>\n",
       "      <td>16:09:00</td>\n",
       "      <td>NaN</td>\n",
       "      <td>NaN</td>\n",
       "    </tr>\n",
       "    <tr>\n",
       "      <th>1</th>\n",
       "      <td>160480</td>\n",
       "      <td>70277073</td>\n",
       "      <td>4315506.0</td>\n",
       "      <td>EHV</td>\n",
       "      <td>25/05/2017 15:49:40</td>\n",
       "      <td>25/05/2017 15:41:00</td>\n",
       "      <td>Btl-Vga : GRS SSL sectie 607CT VGA-BTL  Rijric...</td>\n",
       "      <td>25/05/2017 15:41:00</td>\n",
       "      <td>Btl-Vga : GRS SSL sectie 607CT VGA-BTL</td>\n",
       "      <td>F5 - Spoor/wissels</td>\n",
       "      <td>...</td>\n",
       "      <td>25/05/2017</td>\n",
       "      <td>17:45:00</td>\n",
       "      <td>25/05/2017</td>\n",
       "      <td>17:31:00</td>\n",
       "      <td>94.0</td>\n",
       "      <td>15.0</td>\n",
       "      <td>NaN</td>\n",
       "      <td>00:00:00</td>\n",
       "      <td>25/05/2017</td>\n",
       "      <td>18:03:00</td>\n",
       "    </tr>\n",
       "    <tr>\n",
       "      <th>2</th>\n",
       "      <td>160482</td>\n",
       "      <td>70277079</td>\n",
       "      <td>4315569.0</td>\n",
       "      <td>KFH</td>\n",
       "      <td>25/05/2017 16:38:20</td>\n",
       "      <td>25/05/2017 17:11:00</td>\n",
       "      <td>Bot-Ps : Botbr geen rijweginstelling mogelijk ...</td>\n",
       "      <td>25/05/2017 17:11:00</td>\n",
       "      <td>Bot-Ps : Botbr geen rijweginstelling mog</td>\n",
       "      <td>F5 - Spoor/wissels</td>\n",
       "      <td>...</td>\n",
       "      <td>25/05/2017</td>\n",
       "      <td>18:30:00</td>\n",
       "      <td>25/05/2017</td>\n",
       "      <td>18:15:00</td>\n",
       "      <td>87.0</td>\n",
       "      <td>67.0</td>\n",
       "      <td>25/05/2017</td>\n",
       "      <td>18:15:00</td>\n",
       "      <td>25/05/2017</td>\n",
       "      <td>19:27:00</td>\n",
       "    </tr>\n",
       "    <tr>\n",
       "      <th>3</th>\n",
       "      <td>160483</td>\n",
       "      <td>70277081</td>\n",
       "      <td>0.0</td>\n",
       "      <td>NaN</td>\n",
       "      <td>25/05/2017 16:41:44</td>\n",
       "      <td>25/05/2017 16:41:44</td>\n",
       "      <td>Ddr-Wld : Sp-PA km 25.180 HOTBOX 119 loc 2141 ...</td>\n",
       "      <td>NaN</td>\n",
       "      <td>Ddr-Wld : Sp-PA km 25.180 HOTBOX 119 loc</td>\n",
       "      <td>NaN</td>\n",
       "      <td>...</td>\n",
       "      <td>25/05/2017</td>\n",
       "      <td>22:00:00</td>\n",
       "      <td>25/05/2017</td>\n",
       "      <td>21:46:00</td>\n",
       "      <td>298.0</td>\n",
       "      <td>272.0</td>\n",
       "      <td>25/05/2017</td>\n",
       "      <td>21:46:00</td>\n",
       "      <td>NaN</td>\n",
       "      <td>NaN</td>\n",
       "    </tr>\n",
       "    <tr>\n",
       "      <th>4</th>\n",
       "      <td>160488</td>\n",
       "      <td>70277086</td>\n",
       "      <td>4315597.0</td>\n",
       "      <td>ZL</td>\n",
       "      <td>25/05/2017 17:15:14</td>\n",
       "      <td>25/05/2017 17:43:00</td>\n",
       "      <td>Ns : Sp-122 smeulende dwl (halverwege perron).</td>\n",
       "      <td>25/05/2017 17:43:00</td>\n",
       "      <td>Ns : Sp-122 smeulende dwl (halverwege pe</td>\n",
       "      <td>F5 - Spoor/wissels</td>\n",
       "      <td>...</td>\n",
       "      <td>25/05/2017</td>\n",
       "      <td>17:50:00</td>\n",
       "      <td>25/05/2017</td>\n",
       "      <td>18:15:00</td>\n",
       "      <td>55.0</td>\n",
       "      <td>40.0</td>\n",
       "      <td>25/05/2017</td>\n",
       "      <td>19:00:01</td>\n",
       "      <td>25/05/2017</td>\n",
       "      <td>18:07:00</td>\n",
       "    </tr>\n",
       "  </tbody>\n",
       "</table>\n",
       "<p>5 rows × 141 columns</p>\n",
       "</div>"
      ],
      "text/plain": [
       "       ID  #stm_sap_meldnr  stm_mon_nr stm_vl_post     stm_sap_meld_ddt  \\\n",
       "0  160476         70277067         0.0         NaN  25/05/2017 15:16:37   \n",
       "1  160480         70277073   4315506.0         EHV  25/05/2017 15:49:40   \n",
       "2  160482         70277079   4315569.0         KFH  25/05/2017 16:38:20   \n",
       "3  160483         70277081         0.0         NaN  25/05/2017 16:41:44   \n",
       "4  160488         70277086   4315597.0          ZL  25/05/2017 17:15:14   \n",
       "\n",
       "  stm_sap_mon_meld_ddt                             stm_sap_meldtekst_lang  \\\n",
       "0  25/05/2017 15:16:37           Vry : km 55.9 Spoor 353 smeulende biels.   \n",
       "1  25/05/2017 15:41:00  Btl-Vga : GRS SSL sectie 607CT VGA-BTL  Rijric...   \n",
       "2  25/05/2017 17:11:00  Bot-Ps : Botbr geen rijweginstelling mogelijk ...   \n",
       "3  25/05/2017 16:41:44  Ddr-Wld : Sp-PA km 25.180 HOTBOX 119 loc 2141 ...   \n",
       "4  25/05/2017 17:43:00     Ns : Sp-122 smeulende dwl (halverwege perron).   \n",
       "\n",
       "     stm_mon_begin_ddt                         stm_sap_meldtekst  \\\n",
       "0                  NaN  Vry : km 55.9 Spoor 353 smeulende biels.   \n",
       "1  25/05/2017 15:41:00    Btl-Vga : GRS SSL sectie 607CT VGA-BTL   \n",
       "2  25/05/2017 17:11:00  Bot-Ps : Botbr geen rijweginstelling mog   \n",
       "3                  NaN  Ddr-Wld : Sp-PA km 25.180 HOTBOX 119 loc   \n",
       "4  25/05/2017 17:43:00  Ns : Sp-122 smeulende dwl (halverwege pe   \n",
       "\n",
       "  stm_mon_toelichting_trdl  ... stm_progfh_gw_datum  stm_progfh_gw_tijd  \\\n",
       "0                      NaN  ...          25/05/2017            16:10:01   \n",
       "1       F5 - Spoor/wissels  ...          25/05/2017            17:45:00   \n",
       "2       F5 - Spoor/wissels  ...          25/05/2017            18:30:00   \n",
       "3                      NaN  ...          25/05/2017            22:00:00   \n",
       "4       F5 - Spoor/wissels  ...          25/05/2017            17:50:00   \n",
       "\n",
       "    stm_fh_dd  stm_fh_tijd stm_fh_duur stm_reactie_duur  \\\n",
       "0  25/05/2017     16:09:00        45.0             32.0   \n",
       "1  25/05/2017     17:31:00        94.0             15.0   \n",
       "2  25/05/2017     18:15:00        87.0             67.0   \n",
       "3  25/05/2017     21:46:00       298.0            272.0   \n",
       "4  25/05/2017     18:15:00        55.0             40.0   \n",
       "\n",
       "   stm_sap_storeinddatum  stm_sap_storeindtijd  stm_mon_eind_datum  \\\n",
       "0             25/05/2017              16:09:00                 NaN   \n",
       "1                    NaN              00:00:00          25/05/2017   \n",
       "2             25/05/2017              18:15:00          25/05/2017   \n",
       "3             25/05/2017              21:46:00                 NaN   \n",
       "4             25/05/2017              19:00:01          25/05/2017   \n",
       "\n",
       "  stm_mon_eind_tijd  \n",
       "0               NaN  \n",
       "1          18:03:00  \n",
       "2          19:27:00  \n",
       "3               NaN  \n",
       "4          18:07:00  \n",
       "\n",
       "[5 rows x 141 columns]"
      ]
     },
     "execution_count": 56,
     "metadata": {},
     "output_type": "execute_result"
    }
   ],
   "source": [
    "validatie_target_set.head()"
   ]
  },
  {
   "cell_type": "markdown",
   "metadata": {},
   "source": [
    "#### De target validatieset moet zoals de vorige dataframes ook omgezet worden zodat we hiermee kunnen werken"
   ]
  },
  {
   "cell_type": "code",
   "execution_count": 57,
   "metadata": {},
   "outputs": [],
   "source": [
    "validatie_target_set[colums_to_change] = validatie_target_set[colums_to_change].apply(pd.to_datetime, format=\"%d/%m/%Y %H:%M:%S\")\n",
    "\n",
    "validatie_target_set[\"stm_fh_duur_2\"] = pd.Series(validatie_target_set[\"stm_fh_duur\"] - ((validatie_target_set[\"stm_aanntpl_ddt\"] - validatie_target_set[\"stm_sap_meld_ddt\"]).dt.seconds)/60)"
   ]
  },
  {
   "cell_type": "markdown",
   "metadata": {},
   "source": [
    "#### Stm_fh_duur_2 wordt gecategoriseerd in 15 minuten "
   ]
  },
  {
   "cell_type": "code",
   "execution_count": 58,
   "metadata": {},
   "outputs": [],
   "source": [
    "validatie_target = validatie_target_set[\"stm_fh_duur_2\"] // 15"
   ]
  },
  {
   "cell_type": "markdown",
   "metadata": {},
   "source": [
    "#### Tijdens het proces zijn we erachter gekomen dat er 4 null-waarden in de target validatie dataset zitten."
   ]
  },
  {
   "cell_type": "code",
   "execution_count": 62,
   "metadata": {},
   "outputs": [
    {
     "data": {
      "text/plain": [
       "4"
      ]
     },
     "execution_count": 62,
     "metadata": {},
     "output_type": "execute_result"
    }
   ],
   "source": [
    "validatie_target.isnull().sum()"
   ]
  },
  {
   "cell_type": "markdown",
   "metadata": {},
   "source": [
    "#### We hebben ervoor gekozen om deze null-waarden uit de dataset de verwijderen. Dit omdat het aantal klein is."
   ]
  },
  {
   "cell_type": "code",
   "execution_count": 63,
   "metadata": {},
   "outputs": [
    {
     "name": "stderr",
     "output_type": "stream",
     "text": [
      "/usr/local/lib/python3.7/site-packages/numpy/core/fromnumeric.py:61: FutureWarning: Series.nonzero() is deprecated and will be removed in a future version.Use Series.to_numpy().nonzero() instead\n",
      "  return bound(*args, **kwds)\n"
     ]
    }
   ],
   "source": [
    "# index achterhalen van de null-waarden\n",
    "index_nan_v = np.argwhere(np.isnan(validatie_target))"
   ]
  },
  {
   "cell_type": "code",
   "execution_count": 64,
   "metadata": {},
   "outputs": [],
   "source": [
    "# door middel van een forloop deze waarden uit zowel de target validatieset als de pred_validatie halen\n",
    "for i in index_nan_v[::-1]:\n",
    "    validatie_target.drop([validatie_target.index[i[0]]], inplace=True)\n",
    "    pred_validatie.drop([pred_validatie.index[i[0]]], inplace=True)"
   ]
  },
  {
   "cell_type": "markdown",
   "metadata": {},
   "source": [
    "### Accuracy score berekenen"
   ]
  },
  {
   "cell_type": "code",
   "execution_count": 66,
   "metadata": {},
   "outputs": [
    {
     "data": {
      "text/plain": [
       "0.3411764705882353"
      ]
     },
     "execution_count": 66,
     "metadata": {},
     "output_type": "execute_result"
    }
   ],
   "source": [
    "accuracy_score(pred_validatie, validatie_target)"
   ]
  },
  {
   "cell_type": "markdown",
   "metadata": {},
   "source": [
    "---\n",
    "\n",
    "Zoals je hierboven kunt aflezen hebben we met ons <b>DecisionTreeClassifier model</b> een accuracy score behaald van <b>0.3411</b>. Dit houdt in dat we in <b>34.11%</b> van de gevallen een juiste voorspelling doen.\n",
    "\n",
    "Voor de baseline hadden we een <b>33.9% accuraatheid</b> behaald door het gemiddelde te nemen van de storings-duur."
   ]
  },
  {
   "cell_type": "markdown",
   "metadata": {},
   "source": [
    "### Conclusie"
   ]
  },
  {
   "cell_type": "markdown",
   "metadata": {},
   "source": [
    "In de meeste gevallen is het zo dat een storing valt onder de eerste <b>15 minuten</b>. Zoals we al eerder in de notebook hebben laten zien d.m.v. een grafiek. \n",
    "\n",
    "Tijdens het maken van een voorspelling op de validatie set zien we dat veel van deze uitkomsten ook uitkomen in de eerste kwartier. Het model geeft namelijk (bijna) alleen maar dezelfde waarde terug. Dit is terug te zien in de <b>34%</b> accuraatheid in ons model. \n",
    "\n",
    "Een <b>oorzaak</b> hiervoor is dat de geleverde dataset niet in ons voordeel heeft gewerkt en er veel kolommen zijn die weinig correlatie met elkaar blijken te hebben. Het is daarom moeilijk om een goede voorspelling te doen.\n",
    "\n",
    "We kunnen concluderen dat de baseline die we hebben genomen, die de gemiddelde neemt van een storings-duur <b>bijna</b> net zo goed werkt als het model wat we hebben gebouwd. \n",
    "\n",
    "    - Baseline: 33.9%\n",
    "    - DecisionTreeClassifier: 34.11%"
   ]
  }
 ],
 "metadata": {
  "kernelspec": {
   "display_name": "Python 3.8.0 64-bit",
   "language": "python",
   "name": "python38064bit159108b3a1084e30bae43b4afa6f96dc"
  },
  "language_info": {
   "codemirror_mode": {
    "name": "ipython",
    "version": 3
   },
   "file_extension": ".py",
   "mimetype": "text/x-python",
   "name": "python",
   "nbconvert_exporter": "python",
   "pygments_lexer": "ipython3",
   "version": "3.7.7"
  }
 },
 "nbformat": 4,
 "nbformat_minor": 2
}
